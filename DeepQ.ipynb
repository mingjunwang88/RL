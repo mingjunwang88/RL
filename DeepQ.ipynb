{
 "cells": [
  {
   "cell_type": "code",
   "execution_count": 2,
   "metadata": {},
   "outputs": [
    {
     "name": "stdout",
     "output_type": "stream",
     "text": [
      "4 2\n"
     ]
    },
    {
     "data": {
      "image/png": "[encoded data removed]",
      "text/plain": [
       "<Figure size 432x288 with 1 Axes>"
      ]
     },
     "metadata": {
      "needs_background": "light"
     },
     "output_type": "display_data"
    }
   ],
   "source": [
    "import torch.nn as nn\n",
    "import torch \n",
    "import torch.optim as optim\n",
    "import torch.nn.functional as F\n",
    "import gym\n",
    "import numpy as np\n",
    "import matplotlib.pyplot as plt\n",
    "\n",
    "class Model(nn.Module):\n",
    "    def __init__(self, dim_state, dim_action,h1, h2, alpha=1e-4 ):\n",
    "        super(Model, self).__init__()\n",
    "        \n",
    "        self.dim_state = dim_state\n",
    "        self.dim_action = dim_action\n",
    "        \n",
    "        self.linear1 = nn.Linear(dim_state, h1)\n",
    "        self.linear2 = nn.Linear(h1, h2)\n",
    "        self.linear3 = nn.Linear(h2,dim_action)\n",
    "        \n",
    "        self.optimizer = optim.Adam(self.parameters(), lr=alpha, weight_decay=1e-4)\n",
    "        self.device = torch.device('cuda' if torch.cuda.is_available() else 'cpu')\n",
    "        \n",
    "    def forward(self, state):\n",
    "        output = state.to(self.device)\n",
    "        output = F.relu(self.linear1(output))\n",
    "        output = F.relu(self.linear2(output))\n",
    "        output = self.linear3(output)\n",
    "        \n",
    "        return output\n",
    "    \n",
    "    def save_CheckPoint(self):\n",
    "        print ('...save check point...')\n",
    "        torch.save(self.state_dict, self.checkpoint_file)\n",
    "    def load_CheckPOint(self):\n",
    "        print ('...load check point...')\n",
    "        self.load_state_dict(torch.load(self.checkpoint_file))\n",
    "        \n",
    "\n",
    "class replayBuffer():\n",
    "    def __init__(self,max_memsize, dim_state, dim_action):\n",
    "        self.max_memsize = max_memsize\n",
    "        self.counter = 0\n",
    "        \n",
    "        self.states_mem = np.zeros((max_memsize, dim_state), dtype=np.float32)\n",
    "        self.states_mem_new = np.zeros((max_memsize, dim_state), dtype=np.float32)\n",
    "        self.action_mem = np.zeros((max_memsize), dtype=np.int32)\n",
    "        self.reward_mem = np.zeros(max_memsize, dtype=np.float32)\n",
    "        self.done_mem = np.zeros(max_memsize, dtype=np.bool)        \n",
    "        \n",
    "    def store_transaction(self, state, action, reward, state_new, done):\n",
    "        i = self.counter % self.max_memsize\n",
    "        \n",
    "        self.states_mem[i] = state\n",
    "        self.action_mem[i] = action\n",
    "        self.reward_mem[i] = reward\n",
    "        self.done_mem[i]  =done\n",
    "        self.states_mem_new[i] = state_new\n",
    "        \n",
    "        self.counter+=1\n",
    "           \n",
    "    def sample_buffer(self, batch_size):\n",
    "        max_mem = min(self.counter, self.max_memsize)\n",
    "        \n",
    "        batch = np.random.choice(max_mem, batch_size, replace=False)\n",
    "\n",
    "        state = self.states_mem[batch]\n",
    "        action = self.action_mem[batch]\n",
    "        reward = self.reward_mem[batch]\n",
    "        state_new = self.states_mem_new[batch]\n",
    "        done = self.done_mem[batch]\n",
    "        \n",
    "        return state, action, reward, state_new, done\n",
    "\n",
    "class Agent():\n",
    "    def __init__(self, env, dim_state, dim_action,h1, h2, max_memsize, alpha=1e-4, batch_size=258, max_iters = 30, epslon=0.05, \n",
    "                 steps_target=1000, gamma=0.99):\n",
    "\n",
    "        self.batch_size = batch_size\n",
    "        self.gamma = gamma\n",
    "        self.max_iters = max_iters\n",
    "        self.dim_action = dim_action\n",
    "        \n",
    "        self.device = torch.device('cuda' if torch.cuda.is_available() else 'cpu')\n",
    "        self.max_memsize = max_memsize\n",
    "        self.epslon = epslon\n",
    "        self.buffer = replayBuffer(max_memsize,dim_state, dim_action)\n",
    "        self.loss_fun = nn.MSELoss()\n",
    "        \n",
    "        self.model = Model(dim_state, dim_action,h1, h2, alpha=1e-4 ).to(self.device)\n",
    "        self.model_target = self.model\n",
    "        self.steps_target = steps_target\n",
    "        \n",
    "    def select_actions_epsilon(self, best):\n",
    "        if np.random.random() >= self.epslon:\n",
    "            return best\n",
    "        else:\n",
    "            return np.random.choice(self.dim_action, 1)[0]  \n",
    "        \n",
    "    def plot_learning_curve(self,x, scores, figure_file='test'):\n",
    "        running_avg = np.zeros(len(scores))\n",
    "        for i in range(len(running_avg)):\n",
    "            running_avg[i] = np.mean(scores[max(0, i-100):(i+1)])\n",
    "        plt.plot(x, running_avg)\n",
    "        plt.title('Running average of previous 100 scores')\n",
    "        #plt.savefig(figure_file)\n",
    "    \n",
    "    def train(self):\n",
    "        index = range(self.batch_size)\n",
    "        self.model.train()\n",
    "        rewards_list = []\n",
    "        \n",
    "        for i in range(self.max_iters):\n",
    "            state = env.reset()\n",
    "            done=False\n",
    "            rewards = 0\n",
    "            \n",
    "            while not done:\n",
    "                self.model.zero_grad()\n",
    "                \n",
    "                actions = self.model(torch.tensor(state).float())\n",
    "                best = torch.argmax(actions)               \n",
    "                action = self.select_actions_epsilon(best.item())\n",
    "                \n",
    "                state_new, reward, done, _ = env.step(action)\n",
    "                rewards+=reward\n",
    "                \n",
    "                self.buffer.store_transaction(state, action, reward, state_new, done)\n",
    "               \n",
    "                if self.buffer.counter > self.batch_size:\n",
    "                    state_batch, action_batch, reward_batch, state_new_batch, done_batch = self.buffer.sample_buffer(self.batch_size)\n",
    "                    #print(state_batch.shape, state_batch)\n",
    "\n",
    "                    # Q value\n",
    "                    q_values = self.model(torch.tensor(state_batch))[index, action_batch]\n",
    "                    \n",
    "                    # Target value\n",
    "                    q_target_nexts = self.model_target(torch.tensor(state_new_batch))\n",
    "                    q_target_nexts[done_batch] = 0.0\n",
    "                    \n",
    "                    q_target_next = torch.max(q_target_nexts, dim=1)[0]\n",
    "                    q_targets = torch.tensor(reward_batch).to(self.device) + self.gamma * q_target_next\n",
    "    \n",
    "                    # Loss function\n",
    "                    loss = self.loss_fun(q_targets,q_values)\n",
    "                    loss.backward()\n",
    "                    \n",
    "                    # Update weights\n",
    "                    self.model.optimizer.step()\n",
    "        \n",
    "                    #Update the state\n",
    "                    state = state_new\n",
    "                    if (self.buffer.counter % self.steps_target) == 0:\n",
    "                        self.model_target = self.model \n",
    "            \n",
    "            rewards_list.append(rewards)\n",
    "            \n",
    "        x = [i+1 for i in range(self.max_iters)]\n",
    "        self.plot_learning_curve(x, rewards_list)\n",
    "                \n",
    "if __name__ == '__main__':\n",
    "    #env = gym.make('AirRaid-ram-v0')\n",
    "    env = gym.make('CartPole-v1')\n",
    "    #env = gym.make('MountainCar-v0')\n",
    "    dim_state = env.observation_space.shape[0]\n",
    "    dim_action = env.action_space.n\n",
    "    print (dim_state ,dim_action)\n",
    "    agent = Agent(env,dim_state,dim_action, 256, 256,max_memsize=3000, max_iters=500)\n",
    "    agent.train()\n",
    "        "
   ]
  },
  {
   "cell_type": "code",
   "execution_count": null,
   "metadata": {},
   "outputs": [],
   "source": [
    "T.save(agent.model.state_dict(), 'deepQCritic.pt')\n",
    "\n",
    "#model = TheModelClass(*args, **kwargs)\n",
    "#model.load_state_dict(T.load('deepQCritic.pt'))"
   ]
  },
  {
   "cell_type": "code",
   "execution_count": null,
   "metadata": {},
   "outputs": [],
   "source": [
    "import torch.nn as nn\n",
    "import torch \n",
    "import torch.optim as optim\n",
    "import torch.nn.functional as F\n",
    "import gym\n",
    "import numpy as np\n",
    "import matplotlib.pyplot as plt\n",
    "\n",
    "batch=True\n",
    "max_iters = 400\n",
    "model = agent.model\n",
    "print(model)\n",
    "\n",
    "rewards_list=[]\n",
    "for i in range(max_iters):\n",
    "    model.eval()\n",
    "    state = env.reset()\n",
    "    done=False\n",
    "    rewards = 0\n",
    "    \n",
    "    while not done:\n",
    "        if batch:\n",
    "            actions = model(torch.tensor(state).float())\n",
    "            best = torch.argmax(actions)               \n",
    "            action = agent.select_actions_epsilon(best.item())\n",
    "        else:\n",
    "            action = env.action_space.sample()\n",
    "        \n",
    "        state_new, reward, done, _ = env.step(action)\n",
    "        rewards+=reward\n",
    "        \n",
    "        state = state_new\n",
    "        \n",
    "    rewards_list.append(rewards)\n",
    "print(rewards_list)           \n",
    "x = [i+1 for i in range(max_iters)]\n",
    "agent.plot_learning_curve(x, rewards_list)\n",
    "   "
   ]
  },
  {
   "cell_type": "code",
   "execution_count": null,
   "metadata": {},
   "outputs": [],
   "source": []
  }
 ],
 "metadata": {
  "kernelspec": {
   "display_name": "conda_pytorch_p36",
   "language": "python",
   "name": "conda_pytorch_p36"
  },
  "language_info": {
   "codemirror_mode": {
    "name": "ipython",
    "version": 3
   },
   "file_extension": ".py",
   "mimetype": "text/x-python",
   "name": "python",
   "nbconvert_exporter": "python",
   "pygments_lexer": "ipython3",
   "version": "3.6.13"
  },
  "nbdime-conflicts": {
   "local_diff": [
    {
     "diff": [
      {
       "diff": [
        {
         "key": 0,
         "op": "addrange",
         "valuelist": [
          "conda_pytorch_p36"
         ]
        },
        {
         "key": 0,
         "length": 1,
         "op": "removerange"
        }
       ],
       "key": "display_name",
       "op": "patch"
      }
     ],
     "key": "kernelspec",
     "op": "patch"
    },
    {
     "diff": [
      {
       "diff": [
        {
         "key": 0,
         "op": "addrange",
         "valuelist": [
          "3.6.13"
         ]
        },
        {
         "key": 0,
         "length": 1,
         "op": "removerange"
        }
       ],
       "key": "version",
       "op": "patch"
      }
     ],
     "key": "language_info",
     "op": "patch"
    }
   ],
   "remote_diff": [
    {
     "diff": [
      {
       "diff": [
        {
         "key": 0,
         "op": "addrange",
         "valuelist": [
          "Python 3 (ipykernel)"
         ]
        },
        {
         "key": 0,
         "length": 1,
         "op": "removerange"
        }
       ],
       "key": "display_name",
       "op": "patch"
      }
     ],
     "key": "kernelspec",
     "op": "patch"
    },
    {
     "diff": [
      {
       "diff": [
        {
         "key": 0,
         "op": "addrange",
         "valuelist": [
          "3.9.6"
         ]
        },
        {
         "key": 0,
         "length": 1,
         "op": "removerange"
        }
       ],
       "key": "version",
       "op": "patch"
      }
     ],
     "key": "language_info",
     "op": "patch"
    }
   ]
  }
 },
 "nbformat": 4,
 "nbformat_minor": 4
}
