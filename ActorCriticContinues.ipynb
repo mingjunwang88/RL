{
 "cells": [
  {
   "cell_type": "code",
   "execution_count": 4,
   "metadata": {},
   "outputs": [
    {
     "name": "stdout",
     "output_type": "stream",
     "text": [
      "3 1\n"
     ]
    },
    {
     "data": {
      "image/png": "[encoded data removed]",
      "text/plain": [
       "<Figure size 432x288 with 1 Axes>"
      ]
     },
     "metadata": {
      "needs_background": "light"
     },
     "output_type": "display_data"
    }
   ],
   "source": [
    "CUDA_LAUNCH_BLOCKING=1\n",
    "import torch as t\n",
    "import torch\n",
    "import torch.nn as nn\n",
    "import torch.optim as optim\n",
    "import torch.nn.functional as F\n",
    "import gym\n",
    "import matplotlib.pyplot as plt\n",
    "from torch.distributions import Categorical\n",
    "import numpy as np\n",
    "from torch.distributions.normal import Normal\n",
    "\n",
    "\n",
    "device = torch.device('cpu' if torch.cuda.is_available() else 'cpu')\n",
    "###################################################\n",
    "# Actor Critic model with continus actions\n",
    "# Criric is for state value\n",
    "###################################################\n",
    "\n",
    "class Critic(nn.Module):\n",
    "    ################################\n",
    "    #This is a state value function\n",
    "    ################################\n",
    "    def __init__(self, dim_state ,h1, h2, alpha=1e-4 ):\n",
    "        super(Critic, self).__init__()\n",
    "        \n",
    "        self.dim_state = dim_state\n",
    "        self.dim_action = dim_action\n",
    "        \n",
    "        self.linear1 = nn.Linear(dim_state, h1)\n",
    "        self.linear2 = nn.Linear(h1, h2)\n",
    "        self.linear3 = nn.Linear(h2,1)\n",
    "        \n",
    "        self.optimizer = optim.Adam(self.parameters(), lr=alpha, weight_decay=1e-4)\n",
    "        self.device = torch.device('cpu' if torch.cuda.is_available() else 'cpu')\n",
    "        self.to(self.device)\n",
    "        \n",
    "    def forward(self, state):\n",
    "        output = state.to(self.device)\n",
    "        output = F.relu(self.linear1(output))\n",
    "        output = F.relu(self.linear2(output))\n",
    "        output = self.linear3(output)\n",
    "        \n",
    "        return output\n",
    "    \n",
    "class Actor(nn.Module):\n",
    "    ###########################################################################\n",
    "    # This is a generic actor function that outouts two arrays which can be used for \n",
    "    # Gaussian based continus actor(Mu,Sigma) for continues actions spaces\n",
    "    ###########################################################################\n",
    "    \n",
    "    def __init__(self, dim_state, dim_action, h1, h2, alpha=0.99, checkpoint='actorGausi.pt'):\n",
    "        super(Actor, self).__init__()\n",
    "        self.alpha = alpha\n",
    "        self.checkpoint = checkpoint\n",
    "        \n",
    "        self.dim_state = dim_state\n",
    "        self.dim_action = dim_action\n",
    "        \n",
    "        self.linear1 = nn.Linear(dim_state, h1)\n",
    "        self.linear2 = nn.Linear(h1, h2)\n",
    "        \n",
    "        self.linear_mu = nn.Linear(h2,dim_action) #means\n",
    "        self.linear_sigma = nn.Linear(h2,dim_action) #stds\n",
    "\n",
    "        self.optimizer = optim.Adam(self.parameters(), lr = alpha, weight_decay=1e-4)\n",
    "        self.to(device)\n",
    "        self.repara = 1e-6\n",
    "        self.maxm = 10\n",
    "\n",
    "    def saveChk(self):\n",
    "        print('save model...')\n",
    "        t.save(self.state_dict(), self.checkpoint)\n",
    "\n",
    "    def loadChk(self):\n",
    "        print('load model')\n",
    "        self.load_state_dict(t.load(self.checkpoint))\n",
    "\n",
    "    def forward(self, state):\n",
    "        output = state.to(device)\n",
    "        output = F.relu(self.linear1(output))\n",
    "        output = F.relu(self.linear2(output))\n",
    "\n",
    "        mu = self.linear_mu(output) #All thg mus\n",
    "        sigma = self.linear_sigma(output) #All the sigmas\n",
    "\n",
    "        sigma = t.clamp(sigma, min=self.repara, max=self.maxm)\n",
    "        return mu, sigma\n",
    "\n",
    "    def sample(self,state):\n",
    "        mu, sigma = self.forward(state)\n",
    "        nm = Normal(mu, sigma)\n",
    "        action = nm.sample()\n",
    "\n",
    "        log_probs = nm.log_prob(action)\n",
    "\n",
    "        return action, log_probs\n",
    "        \n",
    "class Agent():\n",
    "    def __init__(self, env, dim_state, dim_action, alpha, fc1, fc2, maxm_Iters=50, gamma=0.99):\n",
    "        self.dim_state = dim_state\n",
    "        self.dim_action = dim_action\n",
    "        self.gamma = gamma\n",
    "        self.maxm_Iters = maxm_Iters\n",
    "        \n",
    "        self.device = t.device('cpu' if t.cuda.is_available() else 'cpu')\n",
    "        self.critic = Critic(dim_state,fc1, fc2)\n",
    "        self.actor = Actor(dim_state, dim_action, fc1,fc2) #dim_state, dim_action, h1, h2\n",
    "        \n",
    "    def plot_learning_curve(self, x, scores, figure_file='test'):\n",
    "        running_avg = np.zeros(len(scores))\n",
    "        for i in range(len(running_avg)):\n",
    "            running_avg[i] = np.mean(scores[max(0, i-100):(i+1)])\n",
    "        plt.plot(x, running_avg)\n",
    "        plt.title('Running average of previous 100 scores')\n",
    "    \n",
    "    def train(self):\n",
    "      \n",
    "        reward_list = []\n",
    "        for i in range(self.maxm_Iters):\n",
    "            self.critic.train()\n",
    "            self.actor.train()\n",
    "        \n",
    "            state = env.reset()\n",
    "            total_reward = 0\n",
    "            done= False\n",
    "            \n",
    "            while not done:\n",
    "                self.critic.zero_grad()\n",
    "                self.actor.zero_grad()\n",
    "              \n",
    "                action,log_probs = self.actor.sample(t.tensor(state).float().to(self.device))\n",
    "                \n",
    "                state_next, reward, done, _ = env.step(action.detach().numpy())\n",
    "                total_reward +=reward\n",
    "                \n",
    "                target = torch.tensor(reward) + self.gamma * self.critic(t.tensor(state_next).float())*(1-int(done))\n",
    "                state_value = self.critic(t.tensor(state).float())\n",
    "                advantage = target - state_value\n",
    "         \n",
    "                ## Loss for critic\n",
    "                loss_critic = advantage**2\n",
    "                \n",
    "                ## Loss for actor\n",
    "                loss_actor = -log_probs * advantage\n",
    "                \n",
    "                (loss_critic + loss_actor).backward()\n",
    "                \n",
    "                self.actor.optimizer.step()\n",
    "                self.critic.optimizer.step()\n",
    "                \n",
    "                state = state_next\n",
    "            reward_list.append(total_reward)\n",
    "            \n",
    "        x = [i+1 for i in range(self.maxm_Iters)]\n",
    "        self.plot_learning_curve(x, reward_list)\n",
    "        \n",
    "if __name__ == '__main__':\n",
    "    env = gym.make('Pendulum-v1')\n",
    "    #env = gym.make('MountainCar-v0')\n",
    "    dim_state = env.observation_space.shape[0]\n",
    "    dim_action = env.action_space.shape[0]\n",
    "    print (dim_state,dim_action )\n",
    "    \n",
    "    agent = Agent(env,dim_state,dim_action, 1e-4, 3, 2, maxm_Iters=2000)\n",
    "    agent.train()\n",
    "                \n",
    "#env, dim_state, dim_action, alpha, fc1, fc2,maxm_Iters=50, gamma=0.99):              \n",
    "              "
   ]
  },
  {
   "cell_type": "code",
   "execution_count": null,
   "metadata": {},
   "outputs": [],
   "source": [
    "env = gym.make('MountainCar-v0')\n",
    "#env = gym.make('Pendulum-v1')"
   ]
  },
  {
   "cell_type": "code",
   "execution_count": 18,
   "metadata": {},
   "outputs": [
    {
     "data": {
      "text/plain": [
       "array([-0.24199723,  0.00322727], dtype=float32)"
      ]
     },
     "execution_count": 18,
     "metadata": {},
     "output_type": "execute_result"
    }
   ],
   "source": [
    "env.observation_space.sample()"
   ]
  },
  {
   "cell_type": "code",
   "execution_count": 19,
   "metadata": {},
   "outputs": [
    {
     "data": {
      "text/plain": [
       "Discrete(3)"
      ]
     },
     "execution_count": 19,
     "metadata": {},
     "output_type": "execute_result"
    }
   ],
   "source": [
    "env.action_space"
   ]
  },
  {
   "cell_type": "code",
   "execution_count": null,
   "metadata": {},
   "outputs": [],
   "source": []
  }
 ],
 "metadata": {
  "kernelspec": {
   "display_name": "conda_pytorch_latest_p36",
   "language": "python",
   "name": "conda_pytorch_latest_p36"
  },
  "language_info": {
   "codemirror_mode": {
    "name": "ipython",
    "version": 3
   },
   "file_extension": ".py",
   "mimetype": "text/x-python",
   "name": "python",
   "nbconvert_exporter": "python",
   "pygments_lexer": "ipython3",
   "version": "3.6.13"
  }
 },
 "nbformat": 4,
 "nbformat_minor": 4
}
