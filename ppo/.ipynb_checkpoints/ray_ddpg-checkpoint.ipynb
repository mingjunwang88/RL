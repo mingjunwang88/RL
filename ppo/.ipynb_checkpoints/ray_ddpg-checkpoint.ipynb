{
 "cells": [
  {
   "cell_type": "code",
   "execution_count": 5,
   "id": "b1e93ee5",
   "metadata": {},
   "outputs": [],
   "source": [
    "import ray\n",
    "from ray.rllib.agents import ppo, ddpg, sac\n",
    "from ray import tune \n",
    "from supplychain import SimpleSupplyChain\n",
    "import importlib\n",
    "#importlib.reload(supplychain)"
   ]
  },
  {
   "cell_type": "code",
   "execution_count": 6,
   "id": "ea5b7ab3",
   "metadata": {},
   "outputs": [
    {
     "name": "stderr",
     "output_type": "stream",
     "text": [
      "2022-04-21 13:18:08,057\tINFO services.py:1462 -- View the Ray dashboard at \u001b[1m\u001b[32mhttp://127.0.0.1:8265\u001b[39m\u001b[22m\n"
     ]
    },
    {
     "data": {
      "text/plain": [
       "RayContext(dashboard_url='127.0.0.1:8265', python_version='3.6.13', ray_version='1.12.0', ray_commit='f18fc31c7562990955556899090f8e8656b48d2d', address_info={'node_ip_address': '172.16.30.231', 'raylet_ip_address': '172.16.30.231', 'redis_address': None, 'object_store_address': '/tmp/ray/session_2022-04-21_13-18-05_187419_65436/sockets/plasma_store', 'raylet_socket_name': '/tmp/ray/session_2022-04-21_13-18-05_187419_65436/sockets/raylet', 'webui_url': '127.0.0.1:8265', 'session_dir': '/tmp/ray/session_2022-04-21_13-18-05_187419_65436', 'metrics_export_port': 57843, 'gcs_address': '172.16.30.231:64966', 'address': '172.16.30.231:64966', 'node_id': '8dc7f5be4bfe1f406934b329ce92cda7370448b5b72d7915a3cc5c58'})"
      ]
     },
     "execution_count": 6,
     "metadata": {},
     "output_type": "execute_result"
    }
   ],
   "source": [
    "ray.shutdown()\n",
    "ray.init()"
   ]
  },
  {
   "cell_type": "code",
   "execution_count": null,
   "id": "f9b36fc6",
   "metadata": {},
   "outputs": [],
   "source": [
    "alg = 'DDPG'\n",
    "tune.run(alg,\n",
    "    stop={\"training_iteration\": 100},\n",
    "    config={\n",
    "        'env':SimpleSupplyChain,\n",
    "        'num_gpus':0,\n",
    "        'num_workers':2,\n",
    "        'lr':tune.grid_search([.001,])     \n",
    "    }\n",
    ")"
   ]
  }
 ],
 "metadata": {
  "kernelspec": {
   "display_name": "conda_pytorch_latest_p36",
   "language": "python",
   "name": "conda_pytorch_latest_p36"
  },
  "language_info": {
   "codemirror_mode": {
    "name": "ipython",
    "version": 3
   },
   "file_extension": ".py",
   "mimetype": "text/x-python",
   "name": "python",
   "nbconvert_exporter": "python",
   "pygments_lexer": "ipython3",
   "version": "3.6.13"
  }
 },
 "nbformat": 4,
 "nbformat_minor": 5
}
