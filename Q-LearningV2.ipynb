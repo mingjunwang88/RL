{
 "cells": [
  {
   "cell_type": "markdown",
   "metadata": {},
   "source": [
    "### Example of Reinforcement Learning \n",
    "\n",
    "linear Approxiatio for Policy evaluation. Use same process as the deep Q leanring. But it only takes the linear input and output Q values(same number of actions). Use e-greedy exploration. "
   ]
  },
  {
   "cell_type": "code",
   "execution_count": 1,
   "metadata": {
    "scrolled": false
   },
   "outputs": [],
   "source": [
    "import torch.nn as nn\n",
    "import torch\n",
    "import torch.optim as optim\n",
    "import numpy as np\n",
    "import gym\n",
    "import torch.nn.functional as F\n",
    "import matplotlib.pyplot as plt\n",
    "\n",
    "def plot_learning_curve(x, scores, figure_file='test'):\n",
    "    running_avg = np.zeros(len(scores))\n",
    "    for i in range(len(running_avg)):\n",
    "        running_avg[i] = np.mean(scores[max(0, i-100):(i+1)])\n",
    "    plt.plot(x, running_avg)\n",
    "    plt.title('Running average of previous 100 scores')\n",
    "    #plt.savefig(figure_file)\n",
    "    \n",
    "## Generate the Q values \n",
    "class Critic(nn.Module):\n",
    "    ## Given the state, what is the action value for each ?\n",
    "    def __init__(self, state_size, action_size, alpha=1e-04, fc_dim1=256, fc_dim2=256,):\n",
    "        super(Critic, self).__init__()\n",
    "        self.state_size = state_size\n",
    "        self.action_size = action_size\n",
    "        ## Assume output one rewards as the output\n",
    "        self.linear1 = nn.Linear(state_size, fc_dim1)\n",
    "        self.linear2 = nn.Linear(fc_dim1, fc_dim2)\n",
    "        self.linear3 = nn.Linear(fc_dim2, action_size)\n",
    "        \n",
    "        self.optimizer = optim.Adam(self.parameters(), lr=alpha, weight_decay=1e-5)\n",
    "        self.loss_fun = nn.MSELoss()\n",
    "        \n",
    "        self.device = torch.device('cuda' if torch.cuda.is_available() else 'cpu')\n",
    "        \n",
    "    def forward(self, state):\n",
    "        #Sate is numpy array\n",
    "        #print ('State Critic: ', state.dim, state)\n",
    "        x = torch.tensor(state.astype(float)).to(self.device)\n",
    "        output = F.relu(self.linear1(x))\n",
    "        output = F.relu(self.linear2(output))\n",
    "        #display('State: ', state)\n",
    "        #print (x)\n",
    "        Qs = self.linear3(output)\n",
    "        return Qs ##Output the each Q value for each action\n",
    "    \n",
    "class Agent():\n",
    "    def __init__(self,gamma, env, model, episodes=50, epsilon=1, nsteps=50):\n",
    "        self.gamma = gamma\n",
    "        self.nsteps = nsteps\n",
    "        self.eps_begin = 1\n",
    "        self.eps_end = 0.1\n",
    "        \n",
    "        self.device = torch.device('cuda' if torch.cuda.is_available() else 'cpu')\n",
    "        \n",
    "        self.model = model.double().to(self.device)\n",
    "        self.episodes = episodes\n",
    "        self.env = env\n",
    "        self.epsilon = epsilon\n",
    "        \n",
    "        \n",
    "    def pickActionEgreedy(self, best):\n",
    "        if np.random.rand() < self.epsilon:\n",
    "            return env.action_space.sample() #random \n",
    "        else:\n",
    "            return best\n",
    "\n",
    "    def train(self):\n",
    "        t = 0\n",
    "        rewards_list = []\n",
    "        \n",
    "        #print ('Shape return: ', s.shape)\n",
    "                        \n",
    "        for i in range(self.episodes):\n",
    "            total_rewards = 0\n",
    "            s = self.env.reset()  #Obtain the initial stare\n",
    "            \n",
    "            done=False\n",
    "            while not done:\n",
    "                \n",
    "                self.model.train()\n",
    "                self.model.zero_grad()\n",
    "                t = t+1\n",
    "                alpha = 1 / t\n",
    "                \n",
    "                \"\"\"\n",
    "                if t < self.nsteps:\n",
    "                    self.epsilon = self.epsilon - (self.eps_begin - self.eps_end) *(t / self.nsteps)\n",
    "                else: \n",
    "                    self.epsilon = self.eps_end\n",
    "                \"\"\"\n",
    "                ##Pick the action with epsilon-greddy wih the current policy\n",
    "                best_action = torch.argmax(self.model(s.flatten())).to(self.device) #obtain the best action\n",
    "                action = self.pickActionEgreedy(best_action.item()) #selection the action by applying the greedy alg\n",
    "                \n",
    "                ##obtain the new state and reward\n",
    "                s_next, rewards, done, _ = self.env.step(action)\n",
    "                                                \n",
    "                ##save the total rewards\n",
    "                total_rewards +=rewards \n",
    "                rewards = torch.tensor(rewards, requires_grad=True,dtype=torch.float64).to(self.device)\n",
    "            \n",
    "                ##Appy the Q learning,obtain the TD target\n",
    "                target = rewards + self.gamma * torch.max(self.model(s_next.flatten())).to(self.device)\n",
    "            \n",
    "                pred = self.model(s.flatten())[action].float().to(self.device)\n",
    "                \n",
    "                loss = self.model.loss_fun(pred, target.float()).to(self.device)\n",
    "                \n",
    "                ##Stochostic gradient descent\n",
    "                loss.backward()\n",
    "                self.model.optimizer.step()                \n",
    "                s = s_next   \n",
    "            rewards_list.append(total_rewards)\n",
    "        \n",
    "        x = [i+1 for i in range(self.episodes)]\n",
    "        plot_learning_curve(x, rewards_list)\n",
    "\n",
    "if __name__ == '__main__':\n",
    "    ## Define the Env\n",
    "    eenv = gym.make(\"AirRaid-ram-v0\")\n",
    "    #env = gym.make('LunarLander-v2')\n",
    "    state_size = env.observation_space.shape[0]\n",
    "    action_size = env.action_space.n\n",
    "    print ('state_size: ', state_size)\n",
    "    print ('action_size: ', action_size)\n",
    "\n",
    "    model = Critic(state_size, action_size)\n",
    "    \n",
    "    agent = Agent(0.99, env, model, episodes=1000)\n",
    "    agent.train()\n"
   ]
  },
  {
   "cell_type": "code",
   "execution_count": 19,
   "metadata": {},
   "outputs": [
    {
     "name": "stdout",
     "output_type": "stream",
     "text": [
      "128\n",
      "6\n",
      "[224 225 231 184  18  67 228   6 125 190  49  71 112 131 192  15  25 246\n",
      "  12  71  13 235 255 122 207 209   7  28 187 231 248 102 205 233 251 235\n",
      " 129  77 183 168  14  36  46  84 204 147 106  33  77  15 168 148 155 202\n",
      " 127 248  35 125 236 188 174  26  23  13 130 221  25 114 173  95  22 238\n",
      " 243 143  98  63 233 220 224 222 139 136 234 111  48 197 104  16  49  70\n",
      " 129 191   6  96 197  65 240 184 155  82 245 249 142   4  82 190  71  17\n",
      " 168 156  85 171 153 143 165  29 213  31 119 245 102 142  60 160 113  13\n",
      "  87 240]\n",
      "5\n"
     ]
    }
   ],
   "source": [
    "import gym\n",
    "env = gym.make(\"AirRaid-ram-v0\")\n",
    "state_size = env.observation_space.shape[0]\n",
    "action_size = env.action_space.n\n",
    "\n",
    "print(state_size)\n",
    "print (action_size)\n",
    "\n",
    "print(env.observation_space.sample())\n",
    "print (env.action_space.sample())\n",
    "\n"
   ]
  },
  {
   "cell_type": "code",
   "execution_count": 51,
   "metadata": {},
   "outputs": [
    {
     "name": "stdout",
     "output_type": "stream",
     "text": [
      "(2,)\n",
      "Box(1,)\n"
     ]
    }
   ],
   "source": [
    "print(env.observation_space.shape)\n",
    "print(env.action_space)"
   ]
  },
  {
   "cell_type": "code",
   "execution_count": 73,
   "metadata": {},
   "outputs": [
    {
     "name": "stdout",
     "output_type": "stream",
     "text": [
      "cpu\n"
     ]
    }
   ],
   "source": [
    "device = torch.device('cuda' if torch.cuda.is_available() else 'cpu')\n",
    "print (device)"
   ]
  },
  {
   "cell_type": "code",
   "execution_count": 364,
   "metadata": {},
   "outputs": [
    {
     "name": "stdout",
     "output_type": "stream",
     "text": [
      "[[1 2 3]\n",
      " [2 4 5]\n",
      " [1 2 3]]\n",
      "[1 2 3 2 4 5 1 2 3]\n"
     ]
    }
   ],
   "source": [
    "Asterix-v0"
   ]
  },
  {
   "cell_type": "code",
   "execution_count": 347,
   "metadata": {},
   "outputs": [
    {
     "name": "stdout",
     "output_type": "stream",
     "text": [
      "5\n"
     ]
    }
   ],
   "source": [
    "for i in (5,):\n",
    "    print (i)"
   ]
  },
  {
   "cell_type": "code",
   "execution_count": null,
   "metadata": {},
   "outputs": [],
   "source": []
  }
 ],
 "metadata": {
  "kernelspec": {
   "display_name": "Python 3",
   "language": "python",
   "name": "python3"
  },
  "language_info": {
   "codemirror_mode": {
    "name": "ipython",
    "version": 3
   },
   "file_extension": ".py",
   "mimetype": "text/x-python",
   "name": "python",
   "nbconvert_exporter": "python",
   "pygments_lexer": "ipython3",
   "version": "3.7.3"
  }
 },
 "nbformat": 4,
 "nbformat_minor": 2
}
