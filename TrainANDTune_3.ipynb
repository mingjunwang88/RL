{
 "cells": [
  {
   "cell_type": "code",
   "execution_count": 1,
   "id": "763992d9",
   "metadata": {},
   "outputs": [
    {
     "name": "stdout",
     "output_type": "stream",
     "text": [
      "WARNING:tensorflow:From /home/ec2-user/anaconda3/envs/tensorflow_p36/gpu_cuda10.0/lib/python3.6/site-packages/tensorflow_core/__init__.py:1473: The name tf.estimator.inputs is deprecated. Please use tf.compat.v1.estimator.inputs instead.\n",
      "\n"
     ]
    }
   ],
   "source": [
    "from ray.rllib.agents.ppo import PPOTrainer, DEFAULT_CONFIG\n",
    "from ray.tune.logger import pretty_print\n",
    "import ray\n",
    "import json\n",
    "import pandas as pd\n",
    "import gym"
   ]
  },
  {
   "cell_type": "code",
   "execution_count": 2,
   "id": "0220a173",
   "metadata": {},
   "outputs": [
    {
     "name": "stderr",
     "output_type": "stream",
     "text": [
      "2021-10-16 15:33:01,182\tINFO services.py:1252 -- View the Ray dashboard at \u001b[1m\u001b[32mhttp://127.0.0.1:8265\u001b[39m\u001b[22m\n"
     ]
    },
    {
     "data": {
      "text/plain": [
       "{'node_ip_address': '172.16.19.112',\n",
       " 'raylet_ip_address': '172.16.19.112',\n",
       " 'redis_address': '172.16.19.112:6379',\n",
       " 'object_store_address': '/tmp/ray/session_2021-10-16_15-32-59_366008_35876/sockets/plasma_store',\n",
       " 'raylet_socket_name': '/tmp/ray/session_2021-10-16_15-32-59_366008_35876/sockets/raylet',\n",
       " 'webui_url': '127.0.0.1:8265',\n",
       " 'session_dir': '/tmp/ray/session_2021-10-16_15-32-59_366008_35876',\n",
       " 'metrics_export_port': 64484,\n",
       " 'node_id': '3994c905d1decccc0833115ae26f91f3d6221fadb4cd11e953b89c7f'}"
      ]
     },
     "execution_count": 2,
     "metadata": {},
     "output_type": "execute_result"
    }
   ],
   "source": [
    "ray.shutdown()\n",
    "ray.init()"
   ]
  },
  {
   "cell_type": "code",
   "execution_count": 3,
   "id": "8b196654",
   "metadata": {},
   "outputs": [
    {
     "name": "stderr",
     "output_type": "stream",
     "text": [
      "2021-10-16 15:33:06,779\tINFO trainer.py:741 -- Tip: set framework=tfe or the --eager flag to enable TensorFlow eager execution\n",
      "2021-10-16 15:33:06,780\tINFO ppo.py:165 -- In multi-agent mode, policies will be optimized sequentially by the multi-GPU optimizer. Consider setting simple_optimizer=True if this doesn't work for you.\n",
      "2021-10-16 15:33:06,781\tINFO trainer.py:760 -- Current log_level is WARN. For more information, set 'log_level': 'INFO' / 'DEBUG' or use the -v and -vv flags.\n",
      "\u001b[2m\u001b[36m(pid=36311)\u001b[0m WARNING:tensorflow:From /home/ec2-user/anaconda3/envs/tensorflow_p36/gpu_cuda10.0/lib/python3.6/site-packages/tensorflow_core/__init__.py:1473: The name tf.estimator.inputs is deprecated. Please use tf.compat.v1.estimator.inputs instead.\n",
      "\u001b[2m\u001b[36m(pid=36311)\u001b[0m \n",
      "\u001b[2m\u001b[36m(pid=36311)\u001b[0m 2021-10-16 15:33:11.379409: E tensorflow/stream_executor/cuda/cuda_driver.cc:318] failed call to cuInit: CUDA_ERROR_NO_DEVICE: no CUDA-capable device is detected\n",
      "\u001b[2m\u001b[36m(pid=36311)\u001b[0m WARNING:tensorflow:From /home/ec2-user/anaconda3/envs/tensorflow_p36/gpu_cuda10.0/lib/python3.6/site-packages/tensorflow_core/python/ops/resource_variable_ops.py:1630: calling BaseResourceVariable.__init__ (from tensorflow.python.ops.resource_variable_ops) with constraint is deprecated and will be removed in a future version.\n",
      "\u001b[2m\u001b[36m(pid=36311)\u001b[0m Instructions for updating:\n",
      "\u001b[2m\u001b[36m(pid=36311)\u001b[0m If using Keras pass *_constraint arguments to layers.\n",
      "\u001b[2m\u001b[36m(pid=36311)\u001b[0m WARNING:tensorflow:From /home/ec2-user/anaconda3/envs/tensorflow_p36/gpu_cuda10.0/lib/python3.6/site-packages/tensorflow_core/python/ops/math_grad.py:1424: where (from tensorflow.python.ops.array_ops) is deprecated and will be removed in a future version.\n",
      "\u001b[2m\u001b[36m(pid=36311)\u001b[0m Instructions for updating:\n",
      "\u001b[2m\u001b[36m(pid=36311)\u001b[0m Use tf.where in 2.0, which has the same broadcast rule as np.where\n",
      "\u001b[2m\u001b[36m(pid=36311)\u001b[0m WARNING:tensorflow:From /home/ec2-user/anaconda3/envs/tensorflow_p36/lib/python3.6/site-packages/horovod/tensorflow/__init__.py:163: The name tf.global_variables is deprecated. Please use tf.compat.v1.global_variables instead.\n",
      "\u001b[2m\u001b[36m(pid=36311)\u001b[0m \n",
      "\u001b[2m\u001b[36m(pid=36311)\u001b[0m WARNING:tensorflow:From /home/ec2-user/anaconda3/envs/tensorflow_p36/lib/python3.6/site-packages/horovod/tensorflow/__init__.py:189: The name tf.get_default_graph is deprecated. Please use tf.compat.v1.get_default_graph instead.\n",
      "\u001b[2m\u001b[36m(pid=36311)\u001b[0m \n"
     ]
    },
    {
     "name": "stdout",
     "output_type": "stream",
     "text": [
      "\u001b[2m\u001b[36m(RolloutWorker pid=36311)\u001b[0m [2021-10-16 15:33:16.162 ip-172-16-19-112:36311 INFO utils.py:27] RULE_JOB_STOP_SIGNAL_FILENAME: None\n",
      "\u001b[2m\u001b[36m(RolloutWorker pid=36311)\u001b[0m [2021-10-16 15:33:16.308 ip-172-16-19-112:36311 INFO profiler_config_parser.py:111] Unable to find config at /opt/ml/input/config/profilerconfig.json. Profiler is disabled.\n",
      "WARNING:tensorflow:From /home/ec2-user/anaconda3/envs/tensorflow_p36/gpu_cuda10.0/lib/python3.6/site-packages/tensorflow_core/python/ops/resource_variable_ops.py:1630: calling BaseResourceVariable.__init__ (from tensorflow.python.ops.resource_variable_ops) with constraint is deprecated and will be removed in a future version.\n",
      "Instructions for updating:\n",
      "If using Keras pass *_constraint arguments to layers.\n",
      "WARNING:tensorflow:From /home/ec2-user/anaconda3/envs/tensorflow_p36/gpu_cuda10.0/lib/python3.6/site-packages/tensorflow_core/python/ops/math_grad.py:1424: where (from tensorflow.python.ops.array_ops) is deprecated and will be removed in a future version.\n",
      "Instructions for updating:\n",
      "Use tf.where in 2.0, which has the same broadcast rule as np.where\n",
      "WARNING:tensorflow:From /home/ec2-user/anaconda3/envs/tensorflow_p36/lib/python3.6/site-packages/horovod/tensorflow/__init__.py:163: The name tf.global_variables is deprecated. Please use tf.compat.v1.global_variables instead.\n",
      "\n",
      "WARNING:tensorflow:From /home/ec2-user/anaconda3/envs/tensorflow_p36/lib/python3.6/site-packages/horovod/tensorflow/__init__.py:189: The name tf.get_default_graph is deprecated. Please use tf.compat.v1.get_default_graph instead.\n",
      "\n",
      "[2021-10-16 15:34:18.720 ip-172-16-19-112:35876 INFO utils.py:27] RULE_JOB_STOP_SIGNAL_FILENAME: None\n",
      "[2021-10-16 15:34:18.754 ip-172-16-19-112:35876 INFO profiler_config_parser.py:111] Unable to find config at /opt/ml/input/config/profilerconfig.json. Profiler is disabled.\n"
     ]
    },
    {
     "name": "stderr",
     "output_type": "stream",
     "text": [
      "2021-10-16 15:34:19,297\tWARNING trainer_template.py:186 -- `execution_plan` functions should accept `trainer`, `workers`, and `config` as args!\n",
      "2021-10-16 15:34:19,297\tINFO trainable.py:112 -- Trainable.setup took 72.519 seconds. If your trainable is slow to initialize, consider setting reuse_actors=True to reduce actor creation overheads.\n",
      "2021-10-16 15:34:19,298\tWARNING util.py:57 -- Install gputil for GPU system monitoring.\n"
     ]
    }
   ],
   "source": [
    "config = DEFAULT_CONFIG.copy()\n",
    "config[\"num_workers\"] = 1\n",
    "config[\"num_sgd_iter\"] = 30\n",
    "config[\"sgd_minibatch_size\"] = 128\n",
    "config[\"model\"][\"fcnet_hiddens\"] = [100, 100]\n",
    "config[\"num_cpus_per_worker\"] = 1\n",
    "\n",
    "agent = PPOTrainer(config, \"CartPole-v1\")"
   ]
  },
  {
   "cell_type": "code",
   "execution_count": 12,
   "id": "80d5c5ab",
   "metadata": {},
   "outputs": [
    {
     "name": "stderr",
     "output_type": "stream",
     "text": [
      "2021-10-16 21:24:39,633\tWARNING tune.py:562 -- Tune detects GPUs, but no trials are using GPUs. To enable trials to use GPUs, set tune.run(resources_per_trial={'gpu': 1}...) which allows Tune to expose 1 GPU to each trial. You can also override `Trainable.default_resource_request` if using the Trainable API.\n"
     ]
    },
    {
     "data": {
      "text/html": [
       "== Status ==<br>Memory usage on this node: 10.1/480.3 GiB<br>Using FIFO scheduling algorithm.<br>Resources requested: 0/32 CPUs, 0/8 GPUs, 0.0/326.01 GiB heap, 0.0/143.71 GiB objects (0.0/1.0 accelerator_type:K80)<br>Result logdir: /home/ec2-user/ray_results/training_function_2021-10-16_21-24-39<br>Number of trials: 3/3 (3 PENDING)<br><table>\n",
       "<thead>\n",
       "<tr><th>Trial name                   </th><th>status  </th><th>loc  </th><th style=\"text-align: right;\">  alpha</th><th style=\"text-align: right;\">  beta</th></tr>\n",
       "</thead>\n",
       "<tbody>\n",
       "<tr><td>training_function_787aa_00000</td><td>PENDING </td><td>     </td><td style=\"text-align: right;\">  0.001</td><td style=\"text-align: right;\">     3</td></tr>\n",
       "<tr><td>training_function_787aa_00001</td><td>PENDING </td><td>     </td><td style=\"text-align: right;\">  0.01 </td><td style=\"text-align: right;\">     2</td></tr>\n",
       "<tr><td>training_function_787aa_00002</td><td>PENDING </td><td>     </td><td style=\"text-align: right;\">  0.1  </td><td style=\"text-align: right;\">     1</td></tr>\n",
       "</tbody>\n",
       "</table><br><br>"
      ],
      "text/plain": [
       "<IPython.core.display.HTML object>"
      ]
     },
     "metadata": {},
     "output_type": "display_data"
    },
    {
     "name": "stdout",
     "output_type": "stream",
     "text": [
      "Result for training_function_787aa_00000:\n",
      "  date: 2021-10-16_21-24-40\n",
      "  done: false\n",
      "  experiment_id: 6a058826c651496a84ffdf111bceb2fb\n",
      "  hostname: ip-172-16-19-112\n",
      "  iterations_since_restore: 1\n",
      "  mean_loss: 10.3\n",
      "  neg_mean_loss: -10.3\n",
      "  node_ip: 172.16.19.112\n",
      "  pid: 36266\n",
      "  time_since_restore: 0.00018477439880371094\n",
      "  time_this_iter_s: 0.00018477439880371094\n",
      "  time_total_s: 0.00018477439880371094\n",
      "  timestamp: 1634419480\n",
      "  timesteps_since_restore: 0\n",
      "  training_iteration: 1\n",
      "  trial_id: 787aa_00000\n",
      "  \n",
      "Result for training_function_787aa_00001:\n",
      "  date: 2021-10-16_21-24-40\n",
      "  done: false\n",
      "  experiment_id: 875e44dbc30f45188b8950114ea6da53\n",
      "  hostname: ip-172-16-19-112\n",
      "  iterations_since_restore: 1\n",
      "  mean_loss: 10.2\n",
      "  neg_mean_loss: -10.2\n",
      "  node_ip: 172.16.19.112\n",
      "  pid: 36264\n",
      "  time_since_restore: 0.000885009765625\n",
      "  time_this_iter_s: 0.000885009765625\n",
      "  time_total_s: 0.000885009765625\n",
      "  timestamp: 1634419480\n",
      "  timesteps_since_restore: 0\n",
      "  training_iteration: 1\n",
      "  trial_id: 787aa_00001\n",
      "  \n",
      "Result for training_function_787aa_00002:\n",
      "  date: 2021-10-16_21-24-40\n",
      "  done: false\n",
      "  experiment_id: 4d147de793704de2a0b4654d3547e6e8\n",
      "  hostname: ip-172-16-19-112\n",
      "  iterations_since_restore: 1\n",
      "  mean_loss: 10.1\n",
      "  neg_mean_loss: -10.1\n",
      "  node_ip: 172.16.19.112\n",
      "  pid: 36258\n",
      "  time_since_restore: 0.0001685619354248047\n",
      "  time_this_iter_s: 0.0001685619354248047\n",
      "  time_total_s: 0.0001685619354248047\n",
      "  timestamp: 1634419480\n",
      "  timesteps_since_restore: 0\n",
      "  training_iteration: 1\n",
      "  trial_id: 787aa_00002\n",
      "  \n",
      "Result for training_function_787aa_00002:\n",
      "  date: 2021-10-16_21-24-40\n",
      "  done: true\n",
      "  experiment_id: 4d147de793704de2a0b4654d3547e6e8\n",
      "  experiment_tag: 2_alpha=0.1,beta=1\n",
      "  hostname: ip-172-16-19-112\n",
      "  iterations_since_restore: 10\n",
      "  mean_loss: 9.274311926605503\n",
      "  neg_mean_loss: -9.274311926605503\n",
      "  node_ip: 172.16.19.112\n",
      "  pid: 36258\n",
      "  time_since_restore: 0.0916602611541748\n",
      "  time_this_iter_s: 0.008116483688354492\n",
      "  time_total_s: 0.0916602611541748\n",
      "  timestamp: 1634419480\n",
      "  timesteps_since_restore: 0\n",
      "  training_iteration: 10\n",
      "  trial_id: 787aa_00002\n",
      "  \n",
      "Result for training_function_787aa_00000:\n",
      "  date: 2021-10-16_21-24-40\n",
      "  done: true\n",
      "  experiment_id: 6a058826c651496a84ffdf111bceb2fb\n",
      "  experiment_tag: 0_alpha=0.001,beta=3\n",
      "  hostname: ip-172-16-19-112\n",
      "  iterations_since_restore: 10\n",
      "  mean_loss: 10.291008092716554\n",
      "  neg_mean_loss: -10.291008092716554\n",
      "  node_ip: 172.16.19.112\n",
      "  pid: 36266\n",
      "  time_since_restore: 0.11049079895019531\n",
      "  time_this_iter_s: 0.016556978225708008\n",
      "  time_total_s: 0.11049079895019531\n",
      "  timestamp: 1634419480\n",
      "  timesteps_since_restore: 0\n",
      "  training_iteration: 10\n",
      "  trial_id: 787aa_00000\n",
      "  \n",
      "Result for training_function_787aa_00001:\n",
      "  date: 2021-10-16_21-24-40\n",
      "  done: true\n",
      "  experiment_id: 875e44dbc30f45188b8950114ea6da53\n",
      "  experiment_tag: 1_alpha=0.01,beta=2\n",
      "  hostname: ip-172-16-19-112\n",
      "  iterations_since_restore: 10\n",
      "  mean_loss: 10.110802775024776\n",
      "  neg_mean_loss: -10.110802775024776\n",
      "  node_ip: 172.16.19.112\n",
      "  pid: 36264\n",
      "  time_since_restore: 0.12166047096252441\n",
      "  time_this_iter_s: 0.02033090591430664\n",
      "  time_total_s: 0.12166047096252441\n",
      "  timestamp: 1634419480\n",
      "  timesteps_since_restore: 0\n",
      "  training_iteration: 10\n",
      "  trial_id: 787aa_00001\n",
      "  \n"
     ]
    },
    {
     "data": {
      "text/html": [
       "== Status ==<br>Memory usage on this node: 10.0/480.3 GiB<br>Using FIFO scheduling algorithm.<br>Resources requested: 0/32 CPUs, 0/8 GPUs, 0.0/326.01 GiB heap, 0.0/143.71 GiB objects (0.0/1.0 accelerator_type:K80)<br>Result logdir: /home/ec2-user/ray_results/training_function_2021-10-16_21-24-39<br>Number of trials: 3/3 (3 TERMINATED)<br><table>\n",
       "<thead>\n",
       "<tr><th>Trial name                   </th><th>status    </th><th>loc  </th><th style=\"text-align: right;\">  alpha</th><th style=\"text-align: right;\">  beta</th><th style=\"text-align: right;\">    loss</th><th style=\"text-align: right;\">  iter</th><th style=\"text-align: right;\">  total time (s)</th><th style=\"text-align: right;\">  neg_mean_loss</th></tr>\n",
       "</thead>\n",
       "<tbody>\n",
       "<tr><td>training_function_787aa_00000</td><td>TERMINATED</td><td>     </td><td style=\"text-align: right;\">  0.001</td><td style=\"text-align: right;\">     3</td><td style=\"text-align: right;\">10.291  </td><td style=\"text-align: right;\">    10</td><td style=\"text-align: right;\">       0.110491 </td><td style=\"text-align: right;\">      -10.291  </td></tr>\n",
       "<tr><td>training_function_787aa_00001</td><td>TERMINATED</td><td>     </td><td style=\"text-align: right;\">  0.01 </td><td style=\"text-align: right;\">     2</td><td style=\"text-align: right;\">10.1108 </td><td style=\"text-align: right;\">    10</td><td style=\"text-align: right;\">       0.12166  </td><td style=\"text-align: right;\">      -10.1108 </td></tr>\n",
       "<tr><td>training_function_787aa_00002</td><td>TERMINATED</td><td>     </td><td style=\"text-align: right;\">  0.1  </td><td style=\"text-align: right;\">     1</td><td style=\"text-align: right;\"> 9.27431</td><td style=\"text-align: right;\">    10</td><td style=\"text-align: right;\">       0.0916603</td><td style=\"text-align: right;\">       -9.27431</td></tr>\n",
       "</tbody>\n",
       "</table><br><br>"
      ],
      "text/plain": [
       "<IPython.core.display.HTML object>"
      ]
     },
     "metadata": {},
     "output_type": "display_data"
    },
    {
     "name": "stderr",
     "output_type": "stream",
     "text": [
      "2021-10-16 21:24:40,712\tINFO tune.py:617 -- Total run time: 1.09 seconds (0.96 seconds for the tuning loop).\n"
     ]
    },
    {
     "name": "stdout",
     "output_type": "stream",
     "text": [
      "Best config:  {'alpha': 0.1, 'beta': 1}\n"
     ]
    },
    {
     "data": {
      "text/html": [
       "<div>\n",
       "<style scoped>\n",
       "    .dataframe tbody tr th:only-of-type {\n",
       "        vertical-align: middle;\n",
       "    }\n",
       "\n",
       "    .dataframe tbody tr th {\n",
       "        vertical-align: top;\n",
       "    }\n",
       "\n",
       "    .dataframe thead th {\n",
       "        text-align: right;\n",
       "    }\n",
       "</style>\n",
       "<table border=\"1\" class=\"dataframe\">\n",
       "  <thead>\n",
       "    <tr style=\"text-align: right;\">\n",
       "      <th></th>\n",
       "      <th>mean_loss</th>\n",
       "      <th>time_this_iter_s</th>\n",
       "      <th>done</th>\n",
       "      <th>timesteps_total</th>\n",
       "      <th>episodes_total</th>\n",
       "      <th>training_iteration</th>\n",
       "      <th>neg_mean_loss</th>\n",
       "      <th>experiment_id</th>\n",
       "      <th>date</th>\n",
       "      <th>timestamp</th>\n",
       "      <th>time_total_s</th>\n",
       "      <th>pid</th>\n",
       "      <th>hostname</th>\n",
       "      <th>node_ip</th>\n",
       "      <th>time_since_restore</th>\n",
       "      <th>timesteps_since_restore</th>\n",
       "      <th>iterations_since_restore</th>\n",
       "      <th>experiment_tag</th>\n",
       "      <th>config.alpha</th>\n",
       "      <th>config.beta</th>\n",
       "    </tr>\n",
       "    <tr>\n",
       "      <th>trial_id</th>\n",
       "      <th></th>\n",
       "      <th></th>\n",
       "      <th></th>\n",
       "      <th></th>\n",
       "      <th></th>\n",
       "      <th></th>\n",
       "      <th></th>\n",
       "      <th></th>\n",
       "      <th></th>\n",
       "      <th></th>\n",
       "      <th></th>\n",
       "      <th></th>\n",
       "      <th></th>\n",
       "      <th></th>\n",
       "      <th></th>\n",
       "      <th></th>\n",
       "      <th></th>\n",
       "      <th></th>\n",
       "      <th></th>\n",
       "      <th></th>\n",
       "    </tr>\n",
       "  </thead>\n",
       "  <tbody>\n",
       "    <tr>\n",
       "      <th>787aa_00000</th>\n",
       "      <td>10.291008</td>\n",
       "      <td>0.016557</td>\n",
       "      <td>True</td>\n",
       "      <td>None</td>\n",
       "      <td>None</td>\n",
       "      <td>10</td>\n",
       "      <td>-10.291008</td>\n",
       "      <td>6a058826c651496a84ffdf111bceb2fb</td>\n",
       "      <td>2021-10-16_21-24-40</td>\n",
       "      <td>1634419480</td>\n",
       "      <td>0.110491</td>\n",
       "      <td>36266</td>\n",
       "      <td>ip-172-16-19-112</td>\n",
       "      <td>172.16.19.112</td>\n",
       "      <td>0.110491</td>\n",
       "      <td>0</td>\n",
       "      <td>10</td>\n",
       "      <td>0_alpha=0.001,beta=3</td>\n",
       "      <td>0.001</td>\n",
       "      <td>3</td>\n",
       "    </tr>\n",
       "    <tr>\n",
       "      <th>787aa_00001</th>\n",
       "      <td>10.110803</td>\n",
       "      <td>0.020331</td>\n",
       "      <td>True</td>\n",
       "      <td>None</td>\n",
       "      <td>None</td>\n",
       "      <td>10</td>\n",
       "      <td>-10.110803</td>\n",
       "      <td>875e44dbc30f45188b8950114ea6da53</td>\n",
       "      <td>2021-10-16_21-24-40</td>\n",
       "      <td>1634419480</td>\n",
       "      <td>0.121660</td>\n",
       "      <td>36264</td>\n",
       "      <td>ip-172-16-19-112</td>\n",
       "      <td>172.16.19.112</td>\n",
       "      <td>0.121660</td>\n",
       "      <td>0</td>\n",
       "      <td>10</td>\n",
       "      <td>1_alpha=0.01,beta=2</td>\n",
       "      <td>0.010</td>\n",
       "      <td>2</td>\n",
       "    </tr>\n",
       "    <tr>\n",
       "      <th>787aa_00002</th>\n",
       "      <td>9.274312</td>\n",
       "      <td>0.008116</td>\n",
       "      <td>True</td>\n",
       "      <td>None</td>\n",
       "      <td>None</td>\n",
       "      <td>10</td>\n",
       "      <td>-9.274312</td>\n",
       "      <td>4d147de793704de2a0b4654d3547e6e8</td>\n",
       "      <td>2021-10-16_21-24-40</td>\n",
       "      <td>1634419480</td>\n",
       "      <td>0.091660</td>\n",
       "      <td>36258</td>\n",
       "      <td>ip-172-16-19-112</td>\n",
       "      <td>172.16.19.112</td>\n",
       "      <td>0.091660</td>\n",
       "      <td>0</td>\n",
       "      <td>10</td>\n",
       "      <td>2_alpha=0.1,beta=1</td>\n",
       "      <td>0.100</td>\n",
       "      <td>1</td>\n",
       "    </tr>\n",
       "  </tbody>\n",
       "</table>\n",
       "</div>"
      ],
      "text/plain": [
       "             mean_loss  time_this_iter_s  done timesteps_total episodes_total  \\\n",
       "trial_id                                                                        \n",
       "787aa_00000  10.291008          0.016557  True            None           None   \n",
       "787aa_00001  10.110803          0.020331  True            None           None   \n",
       "787aa_00002   9.274312          0.008116  True            None           None   \n",
       "\n",
       "             training_iteration  neg_mean_loss  \\\n",
       "trial_id                                         \n",
       "787aa_00000                  10     -10.291008   \n",
       "787aa_00001                  10     -10.110803   \n",
       "787aa_00002                  10      -9.274312   \n",
       "\n",
       "                                experiment_id                 date  \\\n",
       "trial_id                                                             \n",
       "787aa_00000  6a058826c651496a84ffdf111bceb2fb  2021-10-16_21-24-40   \n",
       "787aa_00001  875e44dbc30f45188b8950114ea6da53  2021-10-16_21-24-40   \n",
       "787aa_00002  4d147de793704de2a0b4654d3547e6e8  2021-10-16_21-24-40   \n",
       "\n",
       "              timestamp  time_total_s    pid          hostname        node_ip  \\\n",
       "trial_id                                                                        \n",
       "787aa_00000  1634419480      0.110491  36266  ip-172-16-19-112  172.16.19.112   \n",
       "787aa_00001  1634419480      0.121660  36264  ip-172-16-19-112  172.16.19.112   \n",
       "787aa_00002  1634419480      0.091660  36258  ip-172-16-19-112  172.16.19.112   \n",
       "\n",
       "             time_since_restore  timesteps_since_restore  \\\n",
       "trial_id                                                   \n",
       "787aa_00000            0.110491                        0   \n",
       "787aa_00001            0.121660                        0   \n",
       "787aa_00002            0.091660                        0   \n",
       "\n",
       "             iterations_since_restore        experiment_tag  config.alpha  \\\n",
       "trial_id                                                                    \n",
       "787aa_00000                        10  0_alpha=0.001,beta=3         0.001   \n",
       "787aa_00001                        10   1_alpha=0.01,beta=2         0.010   \n",
       "787aa_00002                        10    2_alpha=0.1,beta=1         0.100   \n",
       "\n",
       "             config.beta  \n",
       "trial_id                  \n",
       "787aa_00000            3  \n",
       "787aa_00001            2  \n",
       "787aa_00002            1  "
      ]
     },
     "metadata": {},
     "output_type": "display_data"
    }
   ],
   "source": [
    "from ray import tune\n",
    "\n",
    "def objective(step, alpha, beta):\n",
    "    return (0.1 + alpha * step / 100)**(-1) + beta * 0.1\n",
    "\n",
    "\n",
    "def training_function(config):\n",
    "    # Hyperparameters\n",
    "    alpha, beta = config[\"alpha\"], config[\"beta\"]\n",
    "    for step in range(30):\n",
    "        # Iterative training function - can be any arbitrary training procedure.\n",
    "        intermediate_score = objective(step, alpha, beta)\n",
    "        # Feed the score back back to Tune.\n",
    "        tune.report(mean_loss=intermediate_score)\n",
    "\n",
    "analysis = tune.run(\n",
    "    training_function,\n",
    "    config={\n",
    "        \"alpha\": tune.grid_search([0.001, 0.01, 0.1]),\n",
    "        \"beta\": tune.choice([1, 2, 3])\n",
    "    })\n",
    "\n",
    "print(\"Best config: \", analysis.get_best_config(\n",
    "    metric=\"mean_loss\", mode=\"min\"))\n",
    "\n",
    "# Get a dataframe for analyzing trial results.\n",
    "df = analysis.results_df\n",
    "df\n",
    "\"\"\"\n",
    "analysis = ray.tune.run(\n",
    "    ppo.PPOTrainer,\n",
    "    config=config,\n",
    "    local_dir=log_dir,\n",
    "    stop=stop_criteria,\n",
    "    checkpoint_at_end=True)\n",
    "\"\"\"\n",
    "\"\"\"\n",
    "alg = 'PPO'\n",
    "tune.run(alg,\n",
    "    stop={'episode_reward_mean':200},\n",
    "    config={\n",
    "        'env':'CartPole-v0',\n",
    "        'num_gpus':1,\n",
    "        'num_workers':2,\n",
    "        'lr':tune.grid_search([.01,.001,.0001])     \n",
    "    }\n",
    ")\n",
    "\"\"\""
   ]
  },
  {
   "cell_type": "code",
   "execution_count": 7,
   "id": "08e48678",
   "metadata": {},
   "outputs": [
    {
     "name": "stderr",
     "output_type": "stream",
     "text": [
      "2021-10-16 21:16:22,345\tWARNING tune.py:562 -- Tune detects GPUs, but no trials are using GPUs. To enable trials to use GPUs, set tune.run(resources_per_trial={'gpu': 1}...) which allows Tune to expose 1 GPU to each trial. You can also override `Trainable.default_resource_request` if using the Trainable API.\n"
     ]
    },
    {
     "data": {
      "text/html": [
       "== Status ==<br>Memory usage on this node: 10.7/480.3 GiB<br>Using FIFO scheduling algorithm.<br>Resources requested: 0/32 CPUs, 0/8 GPUs, 0.0/326.01 GiB heap, 0.0/143.71 GiB objects (0.0/1.0 accelerator_type:K80)<br>Result logdir: /home/ec2-user/ray_results/trainable_2021-10-16_21-16-22<br>Number of trials: 1/1 (1 PENDING)<br><table>\n",
       "<thead>\n",
       "<tr><th>Trial name           </th><th>status  </th><th>loc  </th></tr>\n",
       "</thead>\n",
       "<tbody>\n",
       "<tr><td>trainable_50126_00000</td><td>PENDING </td><td>     </td></tr>\n",
       "</tbody>\n",
       "</table><br><br>"
      ],
      "text/plain": [
       "<IPython.core.display.HTML object>"
      ]
     },
     "metadata": {},
     "output_type": "display_data"
    },
    {
     "name": "stdout",
     "output_type": "stream",
     "text": [
      "Result for trainable_50126_00000:\n",
      "  date: 2021-10-16_21-16-23\n",
      "  done: false\n",
      "  experiment_id: 0e5f14345bc14735b33fed2cdc048f63\n",
      "  hostname: ip-172-16-19-112\n",
      "  iterations_since_restore: 1\n",
      "  node_ip: 172.16.19.112\n",
      "  pid: 36282\n",
      "  score: 4.0\n",
      "  time_since_restore: 0.0001614093780517578\n",
      "  time_this_iter_s: 0.0001614093780517578\n",
      "  time_total_s: 0.0001614093780517578\n",
      "  timestamp: 1634418983\n",
      "  timesteps_since_restore: 0\n",
      "  training_iteration: 1\n",
      "  trial_id: '50126_00000'\n",
      "  \n",
      "Result for trainable_50126_00000:\n",
      "  date: 2021-10-16_21-16-23\n",
      "  done: true\n",
      "  experiment_id: 0e5f14345bc14735b33fed2cdc048f63\n",
      "  experiment_tag: '0'\n",
      "  hostname: ip-172-16-19-112\n",
      "  iterations_since_restore: 20\n",
      "  node_ip: 172.16.19.112\n",
      "  pid: 36282\n",
      "  score: 12.717797887081348\n",
      "  time_since_restore: 0.06075167655944824\n",
      "  time_this_iter_s: 0.0030181407928466797\n",
      "  time_total_s: 0.06075167655944824\n",
      "  timestamp: 1634418983\n",
      "  timesteps_since_restore: 0\n",
      "  training_iteration: 20\n",
      "  trial_id: '50126_00000'\n",
      "  \n"
     ]
    },
    {
     "data": {
      "text/html": [
       "== Status ==<br>Memory usage on this node: 10.7/480.3 GiB<br>Using FIFO scheduling algorithm.<br>Resources requested: 0/32 CPUs, 0/8 GPUs, 0.0/326.01 GiB heap, 0.0/143.71 GiB objects (0.0/1.0 accelerator_type:K80)<br>Result logdir: /home/ec2-user/ray_results/trainable_2021-10-16_21-16-22<br>Number of trials: 1/1 (1 TERMINATED)<br><table>\n",
       "<thead>\n",
       "<tr><th>Trial name           </th><th>status    </th><th>loc  </th><th style=\"text-align: right;\">  iter</th><th style=\"text-align: right;\">  total time (s)</th><th style=\"text-align: right;\">  score</th></tr>\n",
       "</thead>\n",
       "<tbody>\n",
       "<tr><td>trainable_50126_00000</td><td>TERMINATED</td><td>     </td><td style=\"text-align: right;\">    20</td><td style=\"text-align: right;\">       0.0607517</td><td style=\"text-align: right;\">12.7178</td></tr>\n",
       "</tbody>\n",
       "</table><br><br>"
      ],
      "text/plain": [
       "<IPython.core.display.HTML object>"
      ]
     },
     "metadata": {},
     "output_type": "display_data"
    },
    {
     "name": "stderr",
     "output_type": "stream",
     "text": [
      "2021-10-16 21:16:23,332\tINFO tune.py:617 -- Total run time: 0.99 seconds (0.88 seconds for the tuning loop).\n"
     ]
    },
    {
     "name": "stdout",
     "output_type": "stream",
     "text": [
      "best config:  {'a': 2, 'b': 4}\n"
     ]
    }
   ],
   "source": [
    "def objective(x, a, b):\n",
    "    return a * (x ** 0.5) + b\n",
    "\n",
    "def trainable(config):\n",
    "    # config (dict): A dict of hyperparameters.\n",
    "\n",
    "    for x in range(20):\n",
    "        intermediate_score = objective(x, config[\"a\"], config[\"b\"])\n",
    "\n",
    "        tune.report(score=intermediate_score)  # This sends the score to Tune.\n",
    "\n",
    "analysis = tune.run(\n",
    "    trainable,\n",
    "    config={\"a\": 2, \"b\": 4}\n",
    ")\n",
    "\n",
    "print(\"best config: \", analysis.get_best_config(metric=\"score\", mode=\"max\"))"
   ]
  },
  {
   "cell_type": "code",
   "execution_count": null,
   "id": "44137c7f",
   "metadata": {},
   "outputs": [],
   "source": []
  }
 ],
 "metadata": {
  "kernelspec": {
   "display_name": "conda_tensorflow_p36",
   "language": "python",
   "name": "conda_tensorflow_p36"
  },
  "language_info": {
   "codemirror_mode": {
    "name": "ipython",
    "version": 3
   },
   "file_extension": ".py",
   "mimetype": "text/x-python",
   "name": "python",
   "nbconvert_exporter": "python",
   "pygments_lexer": "ipython3",
   "version": "3.6.13"
  }
 },
 "nbformat": 4,
 "nbformat_minor": 5
}
