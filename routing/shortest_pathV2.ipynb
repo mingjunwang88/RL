{
 "cells": [
  {
   "cell_type": "code",
   "execution_count": 2,
   "id": "b5e3b5a2-fea8-4be5-bd28-7a90e5c7b563",
   "metadata": {},
   "outputs": [],
   "source": [
    "import numpy as np\n",
    "import pylab as plt"
   ]
  },
  {
   "cell_type": "code",
   "execution_count": 3,
   "id": "8d3acde8-9e37-4203-a217-df92dc7da88e",
   "metadata": {},
   "outputs": [],
   "source": [
    "points_list = [(0,1), (1,5), (5,6), (5,4), (1,2), (2,3), (2,7)]"
   ]
  },
  {
   "cell_type": "code",
   "execution_count": 4,
   "id": "74b7f4e2-e659-4ffe-ab64-a805c799058d",
   "metadata": {},
   "outputs": [
    {
     "data": {
      "image/png": "[encoded data removed]",
      "text/plain": [
       "<Figure size 640x480 with 1 Axes>"
      ]
     },
     "metadata": {},
     "output_type": "display_data"
    }
   ],
   "source": [
    "#https://github.com/wwt/aidn/blob/AIDN-ds-dev/aidn/routing_ai/routing_ai/topo/logical_topology.py\n",
    "goal = 7\n",
    "epsilon = 0.1\n",
    "\n",
    "import networkx as nx\n",
    "G=nx.Graph()\n",
    "G.add_edges_from(points_list)\n",
    "pos = nx.spring_layout(G)\n",
    "nx.draw_networkx_nodes(G,pos)\n",
    "nx.draw_networkx_edges(G,pos)\n",
    "nx.draw_networkx_labels(G,pos)\n",
    "plt.show()"
   ]
  },
  {
   "cell_type": "code",
   "execution_count": 5,
   "id": "3608a6c9-503b-4ac0-844c-5c87a1526ba1",
   "metadata": {},
   "outputs": [
    {
     "name": "stdout",
     "output_type": "stream",
     "text": [
      "[0, 1, 5, 6, 4, 2, 3, 7]\n",
      "[(0, 1), (1, 5), (1, 2), (5, 6), (5, 4), (2, 3), (2, 7)]\n"
     ]
    }
   ],
   "source": [
    "print(G.nodes)\n",
    "print(G.edges)"
   ]
  },
  {
   "cell_type": "code",
   "execution_count": 6,
   "id": "4c2bd90e-fa05-40ce-8da8-fed32c94e44e",
   "metadata": {},
   "outputs": [],
   "source": [
    "MATRIX_SIZE = 8\n",
    "\n",
    "# create matrix x*y\n",
    "#R = np.matrix(np.ones(shape=(MATRIX_SIZE, MATRIX_SIZE)))\n",
    "#R *= -1\n",
    "#R\n",
    "\n",
    "R = np.zeros((MATRIX_SIZE, MATRIX_SIZE))"
   ]
  },
  {
   "cell_type": "code",
   "execution_count": 9,
   "id": "b972b41a-c9d6-41c4-acc1-3a7ff2f4aaa0",
   "metadata": {},
   "outputs": [
    {
     "name": "stdout",
     "output_type": "stream",
     "text": [
      "(0, 1) (1, 0)\n",
      "(1, 5) (5, 1)\n",
      "(5, 6) (6, 5)\n",
      "(5, 4) (4, 5)\n",
      "(1, 2) (2, 1)\n",
      "(2, 3) (3, 2)\n",
      "(2, 7) (7, 2)\n"
     ]
    }
   ],
   "source": [
    "# assign zeros to paths and 100 to goal-reaching point\n",
    "for point in points_list:\n",
    "    R[point] = 1\n",
    "    R[point[::-1]]= 1\n",
    "    print(point, point[::-1])"
   ]
  },
  {
   "cell_type": "code",
   "execution_count": 34,
   "id": "d937f771-c32b-44fa-89ff-e5e1a8f06710",
   "metadata": {},
   "outputs": [
    {
     "data": {
      "text/plain": [
       "array([[0., 0., 0., 0., 0., 0., 0., 0.],\n",
       "       [0., 0., 0., 0., 0., 0., 0., 0.],\n",
       "       [0., 0., 0., 0., 0., 0., 0., 0.],\n",
       "       [0., 0., 0., 0., 0., 0., 0., 0.],\n",
       "       [0., 0., 0., 0., 0., 0., 0., 0.],\n",
       "       [0., 0., 0., 0., 0., 0., 0., 0.],\n",
       "       [0., 0., 0., 0., 0., 0., 0., 0.],\n",
       "       [0., 0., 0., 0., 0., 0., 0., 0.]])"
      ]
     },
     "execution_count": 34,
     "metadata": {},
     "output_type": "execute_result"
    }
   ],
   "source": [
    "Qs = np.zeros([MATRIX_SIZE,MATRIX_SIZE])\n",
    "\n",
    "# learning parameter\n",
    "gamma = 0.8\n",
    "Qs"
   ]
  },
  {
   "cell_type": "code",
   "execution_count": 36,
   "id": "06b39940-5545-4e9a-a649-6a568e23278d",
   "metadata": {},
   "outputs": [
    {
     "data": {
      "text/plain": [
       "array([0, 2, 5])"
      ]
     },
     "execution_count": 36,
     "metadata": {},
     "output_type": "execute_result"
    }
   ],
   "source": [
    "initial_state = 1\n",
    "def available_actions(state):\n",
    "    current_state_row = R[state,]\n",
    "    av_act = np.where(current_state_row > 0)[0]\n",
    "    return av_act\n",
    "\n",
    "available_act = available_actions(initial_state)\n",
    "available_act"
   ]
  },
  {
   "cell_type": "code",
   "execution_count": 37,
   "id": "6ed244a1-9e25-473f-b665-3f3d3c89a129",
   "metadata": {},
   "outputs": [
    {
     "data": {
      "text/plain": [
       "0"
      ]
     },
     "execution_count": 37,
     "metadata": {},
     "output_type": "execute_result"
    }
   ],
   "source": [
    "def sample_next_action(available_actions_range):\n",
    "    next_action = int(np.random.choice(available_act))\n",
    "    return next_action\n",
    "\n",
    "action = sample_next_action(available_act)\n",
    "action"
   ]
  },
  {
   "cell_type": "code",
   "execution_count": 60,
   "id": "e202d916-fef7-44d1-b7c4-829f62ff96c4",
   "metadata": {},
   "outputs": [
    {
     "name": "stdout",
     "output_type": "stream",
     "text": [
      "[0 1 2 3 4 5 6 7] (8,)\n"
     ]
    },
    {
     "data": {
      "text/plain": [
       "array([[0., 0., 0., 0., 0., 0., 0., 0.],\n",
       "       [1., 0., 0., 0., 0., 0., 0., 0.],\n",
       "       [0., 0., 0., 0., 0., 0., 0., 0.],\n",
       "       [0., 0., 0., 0., 0., 0., 0., 0.],\n",
       "       [0., 0., 0., 0., 0., 0., 0., 0.],\n",
       "       [0., 0., 0., 0., 0., 0., 0., 0.],\n",
       "       [0., 0., 0., 0., 0., 0., 0., 0.],\n",
       "       [0., 0., 0., 0., 0., 0., 0., 0.]])"
      ]
     },
     "execution_count": 60,
     "metadata": {},
     "output_type": "execute_result"
    }
   ],
   "source": [
    "#def update(self, s, a, r, s_next):\n",
    "    #self.Qs[s,a] = self.Qs[s,a] + self.lr*(r + self.gamma*np.max(self.Qs[s_next,a]) - self.Qs[s,a])\n",
    "\n",
    "def update(current_state, action, gamma):\n",
    "    max_index = np.where(Qs[action,] == np.max(Qs[action,]))[0]\n",
    "    #print(Qs[action,])\n",
    "    #max_index = np.argmax(Qs[action,])\n",
    "    #print(type(max_index), max_index)\n",
    "    print(max_index, max_index.shape)\n",
    "\n",
    "    if max_index.shape[0] > 1:\n",
    "          max_index = np.random.choice(max_index)\n",
    "    else:\n",
    "          max_index = int(max_index)\n",
    "    max_value = Q[action, max_index]\n",
    "    \n",
    "    r = R[current_state, action]\n",
    "    Q[current_state, action] = r + gamma * max_value\n",
    "    \n",
    "    \n",
    "update(initial_state, action, gamma)\n",
    "Q"
   ]
  },
  {
   "cell_type": "code",
   "execution_count": null,
   "id": "e0c3fe3d-65a4-436f-a6eb-1da5351f4e50",
   "metadata": {},
   "outputs": [],
   "source": [
    "def train(src, dest):\n",
    "    if src == dest:\n",
    "        print('easy done!')\n",
    "    else:\n",
    "        current = src\n",
    "        while current != dest:\n",
    "            available_act = available_actions(current_state)\n",
    "            action = sample_next_action(available_act)\n",
    "            score = update(current_state,action,gamma)\n",
    "        \n",
    "    return score \n",
    "    "
   ]
  },
  {
   "cell_type": "code",
   "execution_count": 17,
   "id": "30caf743-7e4a-4ad6-bf5e-43ba8dbeb205",
   "metadata": {},
   "outputs": [
    {
     "name": "stdout",
     "output_type": "stream",
     "text": [
      "Trained Q matrix:\n",
      "[[  0.          63.99863962   0.           0.           0.\n",
      "    0.           0.           0.        ]\n",
      " [ 51.1989117   -0.20000446  80.          -0.20000446   0.\n",
      "   51.19050776   0.           0.        ]\n",
      " [  0.          63.99863962   0.          63.99863962   0.\n",
      "    0.           0.         100.        ]\n",
      " [  0.           0.          80.           0.           0.\n",
      "    0.           0.           0.        ]\n",
      " [  0.           0.           0.           0.           0.\n",
      "   51.19050776   0.           0.        ]\n",
      " [  0.          63.9881347    0.           0.          40.95240621\n",
      "    0.          40.95240621   0.        ]\n",
      " [  0.           0.           0.           0.           0.\n",
      "   51.19050776   0.           0.        ]\n",
      " [  0.           0.          79.99955398   0.           0.\n",
      "    0.           0.         100.        ]]\n"
     ]
    },
    {
     "data": {
      "image/png": "[encoded data removed]",
      "text/plain": [
       "<Figure size 432x288 with 1 Axes>"
      ]
     },
     "metadata": {
      "needs_background": "light"
     },
     "output_type": "display_data"
    }
   ],
   "source": [
    "# Training\n",
    "scores = []\n",
    "for i in range(700):\n",
    "    current_state = np.random.randint(0, int(Q.shape[0]))\n",
    "    available_act = available_actions(current_state)\n",
    "    action = sample_next_action(available_act)\n",
    "    score = update(current_state,action,gamma)\n",
    "    scores.append(score)\n",
    "    #print ('Score:', str(score))\n",
    "\n",
    "print(\"Trained Q matrix:\")\n",
    "print(Q/np.max(Q)*100)\n",
    "\n",
    "\n",
    "plt.plot(scores)\n",
    "plt.show()"
   ]
  },
  {
   "cell_type": "code",
   "execution_count": 21,
   "id": "60960d99-287f-448c-9565-a0e6ad28fdbd",
   "metadata": {},
   "outputs": [
    {
     "name": "stdout",
     "output_type": "stream",
     "text": [
      "(array([0]), array([5]))\n",
      "(array([0]), array([1]))\n",
      "(array([0]), array([2]))\n",
      "(array([0]), array([7]))\n",
      "Most efficient path:\n",
      "[4, 5, 1, 2, 7]\n"
     ]
    }
   ],
   "source": [
    "# Testing\n",
    "current_state = 4\n",
    "steps = [current_state]\n",
    "\n",
    "while current_state != 7:\n",
    "\n",
    "    next_step_index = np.where(Q[current_state,] == np.max(Q[current_state,]))[1]\n",
    "    print(np.where(Q[current_state,] == np.max(Q[current_state,])))\n",
    "    \n",
    "    if next_step_index.shape[0] > 1:\n",
    "        next_step_index = int(np.random.choice(next_step_index, size = 1))\n",
    "    else:\n",
    "        next_step_index = int(next_step_index)\n",
    "\n",
    "    steps.append(next_step_index)\n",
    "    current_state = next_step_index\n",
    "\n",
    "print(\"Most efficient path:\")\n",
    "print(steps)\n"
   ]
  },
  {
   "cell_type": "code",
   "execution_count": 59,
   "id": "3d18469f-1a7f-4f0b-8184-f328ad4edd77",
   "metadata": {},
   "outputs": [
    {
     "name": "stdout",
     "output_type": "stream",
     "text": [
      "[[0.80107874 0.15827025]]\n",
      "(1, 2)\n",
      "[0.80107874 0.15827025]\n"
     ]
    }
   ],
   "source": [
    "b = np.matrix(np.random.rand(4,2))\n",
    "print(b[0,])\n",
    "print(b[0].shape)\n",
    "print(np.array(b[0]).flatten())"
   ]
  },
  {
   "cell_type": "code",
   "execution_count": 54,
   "id": "8015a4a0-aea7-4ae6-ac0b-30295382642f",
   "metadata": {},
   "outputs": [
    {
     "data": {
      "text/plain": [
       "array([0, 1, 2, 3, 4])"
      ]
     },
     "execution_count": 54,
     "metadata": {},
     "output_type": "execute_result"
    }
   ],
   "source": [
    "a = np.arange(10)\n",
    "np.where(a<5)[0]"
   ]
  },
  {
   "cell_type": "code",
   "execution_count": null,
   "id": "65e19fea-a5e2-417e-be9c-3ee05fa87a7a",
   "metadata": {},
   "outputs": [],
   "source": []
  }
 ],
 "metadata": {
  "kernelspec": {
   "display_name": "Python 3 (ipykernel)",
   "language": "python",
   "name": "python3"
  },
  "language_info": {
   "codemirror_mode": {
    "name": "ipython",
    "version": 3
   },
   "file_extension": ".py",
   "mimetype": "text/x-python",
   "name": "python",
   "nbconvert_exporter": "python",
   "pygments_lexer": "ipython3",
   "version": "3.8.13"
  }
 },
 "nbformat": 4,
 "nbformat_minor": 5
}
