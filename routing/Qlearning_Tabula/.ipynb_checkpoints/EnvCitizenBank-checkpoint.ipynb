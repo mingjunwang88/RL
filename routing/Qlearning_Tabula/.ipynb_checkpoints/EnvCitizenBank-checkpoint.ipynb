{
 "cells": [
  {
   "cell_type": "code",
   "execution_count": 138,
   "id": "038b93b6-9479-48cf-bb5a-660cbf0bc1a2",
   "metadata": {},
   "outputs": [],
   "source": [
    "import pandas as pd\n",
    "import gym\n",
    "from collections import defaultdict\n",
    "import numpy as np\n",
    "\n",
    "class CitizenBankEnv(gym.Env):\n",
    "    def __init__(self):\n",
    "        df = pd.read_csv('../logical_links.csv')\n",
    "        \n",
    "        self.df_device = df[['DeviceA']].drop_duplicates().reset_index(drop=True).reset_index(drop=False)\n",
    "        self.df = df.merge(self.df_device, how='inner', on=['DeviceA']).rename(columns={'index':'DeviceA_Code'}). \\\n",
    "            merge(self.df_device,how='inner', left_on='DeviceBName', right_on=['DeviceA']).rename(columns={'index':'DeviceB_Code'}) \\\n",
    "            .drop('DeviceA_y', axis=1)\n",
    "        \n",
    "        self.num_devices = self.df_device.shape[0]\n",
    "        self.df_device.to_csv(\"devices.csv\", index=False)\n",
    "        self.df.to_csv('links.csv', index=False)\n",
    "        self.weight = 1.\n",
    "        self.topology_graph()\n",
    "        self.reset()\n",
    "    \n",
    "    #Assuming the weight are the same\n",
    "    def topology_graph(self) -> dict[str, list]:\n",
    "        \"\"\"Build a graph for the topology.\"\"\"\n",
    "        edges = []\n",
    "        self.graph = defaultdict(list)\n",
    "        for link in self.df[['DeviceA_Code', 'DeviceB_Code']].values:\n",
    "            start = link[0]\n",
    "            end = link[1]\n",
    "            edges.append([start, end])\n",
    "            \n",
    "        for edge in edges:\n",
    "            first,second = edge[0], edge[1]\n",
    "            self.graph[first].append(second)\n",
    "            self.graph[second].append(first)\n",
    "            \n",
    "        return\n",
    "    \n",
    "    def build_costs(self):\n",
    "        self.costs = np.zeros((self.num_devices,self.num_devices))\n",
    "        values = self.df['Bandwidth (Mbps)'].values\n",
    "        index = self.df[['DeviceA_Code','DeviceB_Code']].values\n",
    "        self.costs[index[:,0], index[:,1]] = values\n",
    "     \n",
    "    def reset(self):\n",
    "        #state includes the current position and dest\n",
    "        self.state = np.random.choice(range(self.num_devices), 2)\n",
    "        return self.state       \n",
    "    \n",
    "    def step(self, action):\n",
    "        done=False\n",
    "        \n",
    "        if action == self.state[1]:\n",
    "            done=True\n",
    "        \n",
    "        reward = -self.costs[self.state[0], action]\n",
    "        state_next = np.array([action, self.state[1]])\n",
    "        \n",
    "        return state_next, reward, done       \n",
    "        \n",
    "    \n",
    "    def render(self):\n",
    "        pass\n",
    "    "
   ]
  },
  {
   "cell_type": "code",
   "execution_count": 140,
   "id": "49c6cdba-5af3-4877-94da-1852c97a2be9",
   "metadata": {},
   "outputs": [
    {
     "name": "stdout",
     "output_type": "stream",
     "text": [
      "[ 0 13] -0.0 False\n",
      "[ 1 13] -0.0 False\n",
      "[ 2 13] -0.0 False\n",
      "[ 3 13] -0.0 False\n",
      "[ 4 13] -0.0 False\n",
      "[ 5 13] -0.0 False\n",
      "[ 6 13] -0.0 False\n",
      "[ 7 13] -0.0 False\n",
      "[ 8 13] -0.0 False\n",
      "[ 9 13] -1000.0 False\n"
     ]
    }
   ],
   "source": [
    "env = CitizenBankEnv()\n",
    "env.build_costs()\n",
    "for i in range(10):\n",
    "    state_next, r, done = env.step(i)\n",
    "    print(state_next, r, done)"
   ]
  },
  {
   "cell_type": "code",
   "execution_count": 132,
   "id": "f36ba38b-68e3-41f5-b657-3f70101601c2",
   "metadata": {},
   "outputs": [],
   "source": [
    "env.topology_graph()"
   ]
  },
  {
   "cell_type": "code",
   "execution_count": null,
   "id": "d6566280-9a02-4e3d-bfd8-4e980cc7e51a",
   "metadata": {},
   "outputs": [],
   "source": []
  },
  {
   "cell_type": "code",
   "execution_count": null,
   "id": "5489f441-ea6c-40ec-a2d3-1ec5ef01f59c",
   "metadata": {},
   "outputs": [],
   "source": []
  },
  {
   "cell_type": "code",
   "execution_count": null,
   "id": "cddab392-3a53-4353-b164-55410c7c5e5b",
   "metadata": {},
   "outputs": [],
   "source": []
  }
 ],
 "metadata": {
  "kernelspec": {
   "display_name": "Python 3 (ipykernel)",
   "language": "python",
   "name": "python3"
  },
  "language_info": {
   "codemirror_mode": {
    "name": "ipython",
    "version": 3
   },
   "file_extension": ".py",
   "mimetype": "text/x-python",
   "name": "python",
   "nbconvert_exporter": "python",
   "pygments_lexer": "ipython3",
   "version": "3.8.13"
  }
 },
 "nbformat": 4,
 "nbformat_minor": 5
}
