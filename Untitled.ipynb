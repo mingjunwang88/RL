{
 "cells": [
  {
   "cell_type": "code",
   "execution_count": 3,
   "id": "d8d5319b-a665-49b3-b7a4-b178cc8ec576",
   "metadata": {},
   "outputs": [
    {
     "data": {
      "text/html": [
       "== Status ==<br>Memory usage on this node: 10.3/16.0 GiB<br>Using FIFO scheduling algorithm.<br>Resources requested: 0/12 CPUs, 0/0 GPUs, 0.0/4.29 GiB heap, 0.0/2.14 GiB objects<br>Result logdir: /Users/mingjunwang/ray_results/training_function_2021-08-16_11-29-34<br>Number of trials: 3/3 (3 PENDING)<br><table>\n",
       "<thead>\n",
       "<tr><th>Trial name                   </th><th>status  </th><th>loc  </th><th style=\"text-align: right;\">  alpha</th><th style=\"text-align: right;\">  beta</th></tr>\n",
       "</thead>\n",
       "<tbody>\n",
       "<tr><td>training_function_24187_00000</td><td>PENDING </td><td>     </td><td style=\"text-align: right;\">  0.001</td><td style=\"text-align: right;\">     1</td></tr>\n",
       "<tr><td>training_function_24187_00001</td><td>PENDING </td><td>     </td><td style=\"text-align: right;\">  0.01 </td><td style=\"text-align: right;\">     1</td></tr>\n",
       "<tr><td>training_function_24187_00002</td><td>PENDING </td><td>     </td><td style=\"text-align: right;\">  0.1  </td><td style=\"text-align: right;\">     1</td></tr>\n",
       "</tbody>\n",
       "</table><br><br>"
      ],
      "text/plain": [
       "<IPython.core.display.HTML object>"
      ]
     },
     "metadata": {},
     "output_type": "display_data"
    },
    {
     "name": "stdout",
     "output_type": "stream",
     "text": [
      "Result for training_function_24187_00001:\n",
      "  date: 2021-08-16_11-29-35\n",
      "  done: false\n",
      "  experiment_id: 7a2a93ea56574154975a1749e6763872\n",
      "  hostname: Mingjuns-MacBook-Pro.local\n",
      "  iterations_since_restore: 1\n",
      "  mean_loss: 10.1\n",
      "  neg_mean_loss: -10.1\n",
      "  node_ip: 192.168.0.32\n",
      "  pid: 42713\n",
      "  time_since_restore: 9.894371032714844e-05\n",
      "  time_this_iter_s: 9.894371032714844e-05\n",
      "  time_total_s: 9.894371032714844e-05\n",
      "  timestamp: 1629131375\n",
      "  timesteps_since_restore: 0\n",
      "  training_iteration: 1\n",
      "  trial_id: '24187_00001'\n",
      "  \n",
      "Result for training_function_24187_00000:\n",
      "  date: 2021-08-16_11-29-35\n",
      "  done: false\n",
      "  experiment_id: f04d2e9cbb824f05ae83286de3402275\n",
      "  hostname: Mingjuns-MacBook-Pro.local\n",
      "  iterations_since_restore: 1\n",
      "  mean_loss: 10.1\n",
      "  neg_mean_loss: -10.1\n",
      "  node_ip: 192.168.0.32\n",
      "  pid: 42716\n",
      "  time_since_restore: 0.00015282630920410156\n",
      "  time_this_iter_s: 0.00015282630920410156\n",
      "  time_total_s: 0.00015282630920410156\n",
      "  timestamp: 1629131375\n",
      "  timesteps_since_restore: 0\n",
      "  training_iteration: 1\n",
      "  trial_id: '24187_00000'\n",
      "  \n",
      "Result for training_function_24187_00002:\n",
      "  date: 2021-08-16_11-29-35\n",
      "  done: false\n",
      "  experiment_id: cdfa1aa03b4643ad99f810425f25e282\n",
      "  hostname: Mingjuns-MacBook-Pro.local\n",
      "  iterations_since_restore: 1\n",
      "  mean_loss: 10.1\n",
      "  neg_mean_loss: -10.1\n",
      "  node_ip: 192.168.0.32\n",
      "  pid: 42720\n",
      "  time_since_restore: 0.00013494491577148438\n",
      "  time_this_iter_s: 0.00013494491577148438\n",
      "  time_total_s: 0.00013494491577148438\n",
      "  timestamp: 1629131375\n",
      "  timesteps_since_restore: 0\n",
      "  training_iteration: 1\n",
      "  trial_id: '24187_00002'\n",
      "  \n",
      "Result for training_function_24187_00000:\n",
      "  date: 2021-08-16_11-29-35\n",
      "  done: true\n",
      "  experiment_id: f04d2e9cbb824f05ae83286de3402275\n",
      "  experiment_tag: 0_alpha=0.001,beta=1\n",
      "  hostname: Mingjuns-MacBook-Pro.local\n",
      "  iterations_since_restore: 30\n",
      "  mean_loss: 10.071083856815235\n",
      "  neg_mean_loss: -10.071083856815235\n",
      "  node_ip: 192.168.0.32\n",
      "  pid: 42716\n",
      "  time_since_restore: 0.14393973350524902\n",
      "  time_this_iter_s: 0.005202770233154297\n",
      "  time_total_s: 0.14393973350524902\n",
      "  timestamp: 1629131375\n",
      "  timesteps_since_restore: 0\n",
      "  training_iteration: 30\n",
      "  trial_id: '24187_00000'\n",
      "  \n",
      "Result for training_function_24187_00002:\n",
      "  date: 2021-08-16_11-29-35\n",
      "  done: true\n",
      "  experiment_id: cdfa1aa03b4643ad99f810425f25e282\n",
      "  experiment_tag: 2_alpha=0.1,beta=1\n",
      "  hostname: Mingjuns-MacBook-Pro.local\n",
      "  iterations_since_restore: 30\n",
      "  mean_loss: 7.851937984496123\n",
      "  neg_mean_loss: -7.851937984496123\n",
      "  node_ip: 192.168.0.32\n",
      "  pid: 42720\n",
      "  time_since_restore: 0.14578604698181152\n",
      "  time_this_iter_s: 0.003415822982788086\n",
      "  time_total_s: 0.14578604698181152\n",
      "  timestamp: 1629131375\n",
      "  timesteps_since_restore: 0\n",
      "  training_iteration: 30\n",
      "  trial_id: '24187_00002'\n",
      "  \n",
      "Result for training_function_24187_00001:\n",
      "  date: 2021-08-16_11-29-35\n",
      "  done: true\n",
      "  experiment_id: 7a2a93ea56574154975a1749e6763872\n",
      "  experiment_tag: 1_alpha=0.01,beta=1\n",
      "  hostname: Mingjuns-MacBook-Pro.local\n",
      "  iterations_since_restore: 30\n",
      "  mean_loss: 9.818172983479105\n",
      "  neg_mean_loss: -9.818172983479105\n",
      "  node_ip: 192.168.0.32\n",
      "  pid: 42713\n",
      "  time_since_restore: 0.16344690322875977\n",
      "  time_this_iter_s: 0.0019979476928710938\n",
      "  time_total_s: 0.16344690322875977\n",
      "  timestamp: 1629131375\n",
      "  timesteps_since_restore: 0\n",
      "  training_iteration: 30\n",
      "  trial_id: '24187_00001'\n",
      "  \n"
     ]
    },
    {
     "data": {
      "text/html": [
       "== Status ==<br>Memory usage on this node: 10.3/16.0 GiB<br>Using FIFO scheduling algorithm.<br>Resources requested: 0/12 CPUs, 0/0 GPUs, 0.0/4.29 GiB heap, 0.0/2.14 GiB objects<br>Result logdir: /Users/mingjunwang/ray_results/training_function_2021-08-16_11-29-34<br>Number of trials: 3/3 (3 TERMINATED)<br><table>\n",
       "<thead>\n",
       "<tr><th>Trial name                   </th><th>status    </th><th>loc  </th><th style=\"text-align: right;\">  alpha</th><th style=\"text-align: right;\">  beta</th><th style=\"text-align: right;\">    loss</th><th style=\"text-align: right;\">  iter</th><th style=\"text-align: right;\">  total time (s)</th><th style=\"text-align: right;\">  neg_mean_loss</th></tr>\n",
       "</thead>\n",
       "<tbody>\n",
       "<tr><td>training_function_24187_00000</td><td>TERMINATED</td><td>     </td><td style=\"text-align: right;\">  0.001</td><td style=\"text-align: right;\">     1</td><td style=\"text-align: right;\">10.0711 </td><td style=\"text-align: right;\">    30</td><td style=\"text-align: right;\">        0.14394 </td><td style=\"text-align: right;\">      -10.0711 </td></tr>\n",
       "<tr><td>training_function_24187_00001</td><td>TERMINATED</td><td>     </td><td style=\"text-align: right;\">  0.01 </td><td style=\"text-align: right;\">     1</td><td style=\"text-align: right;\"> 9.81817</td><td style=\"text-align: right;\">    30</td><td style=\"text-align: right;\">        0.163447</td><td style=\"text-align: right;\">       -9.81817</td></tr>\n",
       "<tr><td>training_function_24187_00002</td><td>TERMINATED</td><td>     </td><td style=\"text-align: right;\">  0.1  </td><td style=\"text-align: right;\">     1</td><td style=\"text-align: right;\"> 7.85194</td><td style=\"text-align: right;\">    30</td><td style=\"text-align: right;\">        0.145786</td><td style=\"text-align: right;\">       -7.85194</td></tr>\n",
       "</tbody>\n",
       "</table><br><br>"
      ],
      "text/plain": [
       "<IPython.core.display.HTML object>"
      ]
     },
     "metadata": {},
     "output_type": "display_data"
    },
    {
     "name": "stderr",
     "output_type": "stream",
     "text": [
      "2021-08-16 11:29:35,560\tINFO tune.py:550 -- Total run time: 1.24 seconds (1.12 seconds for the tuning loop).\n"
     ]
    },
    {
     "name": "stdout",
     "output_type": "stream",
     "text": [
      "Best config:  {'alpha': 0.1, 'beta': 1}\n"
     ]
    }
   ],
   "source": [
    "from ray import tune\n",
    "\n",
    "\n",
    "def objective(step, alpha, beta):\n",
    "    return (0.1 + alpha * step / 100)**(-1) + beta * 0.1\n",
    "\n",
    "\n",
    "def training_function(config):\n",
    "    # Hyperparameters\n",
    "    alpha, beta = config[\"alpha\"], config[\"beta\"]\n",
    "    for step in range(30):\n",
    "        # Iterative training function - can be any arbitrary training procedure.\n",
    "        intermediate_score = objective(step, alpha, beta)\n",
    "        # Feed the score back back to Tune.\n",
    "        tune.report(mean_loss=intermediate_score)\n",
    "\n",
    "\n",
    "analysis = tune.run(\n",
    "    training_function,\n",
    "    config={\n",
    "        \"alpha\": tune.grid_search([0.001, 0.01, 0.1]),\n",
    "        \"beta\": tune.choice([1, 2, 3])\n",
    "    })\n",
    "\n",
    "print(\"Best config: \", analysis.get_best_config(\n",
    "    metric=\"mean_loss\", mode=\"min\"))\n",
    "\n",
    "# Get a dataframe for analyzing trial results.\n",
    "df = analysis.results_df"
   ]
  },
  {
   "cell_type": "code",
   "execution_count": 12,
   "id": "d297b9c8-cb4e-4c7f-9de1-d8e0ebd94299",
   "metadata": {},
   "outputs": [
    {
     "name": "stdout",
     "output_type": "stream",
     "text": [
      "[[0. 0. 0. 0.]\n",
      " [0. 0. 0. 0.]\n",
      " [0. 0. 0. 0.]]\n",
      "[[1. 2. 3. 4.]\n",
      " [0. 0. 0. 0.]\n",
      " [0. 0. 0. 0.]]\n",
      "[[1. 2. 3. 4.]\n",
      " [1. 1. 1. 1.]\n",
      " [0. 0. 0. 0.]]\n",
      "[[1. 1. 1. 1.]\n",
      " [0. 0. 0. 0.]]\n"
     ]
    }
   ],
   "source": [
    "import numpy as np\n",
    "a = np.zeros((3,4))\n",
    "print(a)\n",
    "a[0] = [1,2,3,4]\n",
    "print(a)\n",
    "a[1] = np.ones(4)\n",
    "print(a)\n",
    "\n",
    "idx = [1,2]\n",
    "print(a[idx])\n"
   ]
  },
  {
   "cell_type": "code",
   "execution_count": null,
   "id": "ea4a4652-82c7-4a96-a25f-98260a78b924",
   "metadata": {},
   "outputs": [],
   "source": []
  }
 ],
 "metadata": {
  "kernelspec": {
   "display_name": "Python 3 (ipykernel)",
   "language": "python",
   "name": "python3"
  },
  "language_info": {
   "codemirror_mode": {
    "name": "ipython",
    "version": 3
   },
   "file_extension": ".py",
   "mimetype": "text/x-python",
   "name": "python",
   "nbconvert_exporter": "python",
   "pygments_lexer": "ipython3",
   "version": "3.9.7"
  }
 },
 "nbformat": 4,
 "nbformat_minor": 5
}
