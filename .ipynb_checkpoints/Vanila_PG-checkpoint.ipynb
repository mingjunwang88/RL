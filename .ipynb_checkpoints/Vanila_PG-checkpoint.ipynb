{
 "cells": [
  {
   "cell_type": "code",
   "execution_count": 2,
   "metadata": {},
   "outputs": [],
   "source": [
    "import torch\n",
    "import torch.nn as nn\n",
    "import torch.nn.functional as F\n",
    "from torch.nn import Embedding\n",
    "from torch.utils.data import Dataset, DataLoader\n",
    "import gym\n",
    "from torch import optim\n",
    "from torch.distributions import Categorical\n",
    "import matplotlib.pyplot as plt\n",
    "import numpy as np"
   ]
  },
  {
   "cell_type": "code",
   "execution_count": 9,
   "metadata": {},
   "outputs": [
    {
     "name": "stdout",
     "output_type": "stream",
     "text": [
      "Obsveration:  Box(-1.2000000476837158, 0.6000000238418579, (2,), float32)\n",
      "Action space:  Discrete(3)\n"
     ]
    },
    {
     "data": {
      "image/png": "[encoded data removed]",
      "text/plain": [
       "<Figure size 432x288 with 1 Axes>"
      ]
     },
     "metadata": {
      "needs_background": "light"
     },
     "output_type": "display_data"
    }
   ],
   "source": [
    "class Actor(nn.Module):\n",
    "    def __init__(self, dim_state, dim_action, fc1, fc2 ,alpha=1e-4,):\n",
    "        super(Actor, self).__init__()\n",
    "        \n",
    "        self.lr = alpha\n",
    "        self.dim_state = dim_state\n",
    "        self.dim_action = dim_action\n",
    "        self.fc1 = fc1\n",
    "        self.fc2 = fc2\n",
    "        \n",
    "        self.linear1 = nn.Linear(dim_state, fc1)\n",
    "        self.linear2 = nn.Linear(fc1, fc2)\n",
    "        self.lienar3 = nn.Linear(fc2, dim_action)\n",
    "        \n",
    "        self.device = torch.device('cuda' if torch.cuda.is_available() else 'cpu')\n",
    "        self.to(self.device)  #Model is automatically assigned to device\n",
    "        self.optimizer = optim.Adam(self.parameters(), lr=alpha, weight_decay = 1e-4)\n",
    "        \n",
    "    def forward(self, state):\n",
    "        output = state.to(self.device)\n",
    "        \n",
    "        output = F.relu(self.linear1(output))\n",
    "        output = F.relu(self.linear2(output))\n",
    "        output = self.lienar3(output)\n",
    "        \n",
    "        return output\n",
    "\n",
    "class Agent():\n",
    "    def __init__(self,env, dim_state, dim_action, fc1, fc2 ,maxm_Iters, alpha=1e-4,gamma=0.99 ):\n",
    "        self.actor = Actor(dim_state, dim_action, fc1, fc2)\n",
    "        self.maxm_Iters = maxm_Iters\n",
    "        self.gamma = gamma\n",
    "        \n",
    "    def getValue(self, rewards):\n",
    "        total_reward = 0\n",
    "        for i, reward in enumerate(rewards):\n",
    "            total_reward +=self.gamma**i * reward\n",
    "        return total_reward\n",
    "        \n",
    "    def train(self):\n",
    "        \n",
    "        reward_List=[]\n",
    "        for i in range(self.maxm_Iters):\n",
    "            rollout = []\n",
    "            done=False\n",
    "            state= env.reset()\n",
    "            rewards = 0\n",
    "            \n",
    "            ## Roll out first\n",
    "            while not done:\n",
    "                probs = self.actor(torch.tensor(state).float())\n",
    "                probs = F.softmax(probs, dim=0)\n",
    "                m = Categorical(probs)\n",
    "                action = m.sample()\n",
    "                \n",
    "                state_new, reward, done, _ = env.step(action.item())\n",
    "                rewards+=reward\n",
    "                \n",
    "                rollout.append((state, action,reward))\n",
    "                \n",
    "                state = state_new\n",
    "                \n",
    "            ##Use the rollout to update the actor\n",
    "            for i, element in enumerate(rollout):\n",
    "                self.actor.train()\n",
    "                self.actor.zero_grad()\n",
    "                \n",
    "                value = self.getValue([j[2] for j in rollout[i:]])\n",
    "                \n",
    "                probs = self.actor(torch.tensor(element[0]).float())\n",
    "                probs = F.softmax(probs, dim=0)\n",
    "                m = Categorical(probs)           \n",
    "                loss = - m.log_prob(element[1]) * torch.tensor(value).float()\n",
    "                \n",
    "                loss.backward()  #Calculate the gradient\n",
    "                self.actor.optimizer.step()  #Update the weight\n",
    "            \n",
    "            reward_List.append(rewards)\n",
    "        self.plot_learning_curve(reward_List)\n",
    "    \n",
    "    def plot_learning_curve(self,scores):\n",
    "        x = [i for i in range(len(scores))]\n",
    "        running_avg = np.zeros(len(x))\n",
    "        \n",
    "        for i in range(len(running_avg)):\n",
    "            running_avg[i] = np.mean(scores[max(0, i-100):(i+1)])\n",
    "        plt.plot(x,running_avg)\n",
    "        plt.show()\n",
    "    \n",
    "    \n",
    "if __name__ == '__main__':\n",
    "    env = gym.make('CartPole-v1')\n",
    "    #env = gym.make('MountainCar-v0')\n",
    "    \n",
    "    dim_state = env.observation_space.shape[0]\n",
    "    dim_action = env.action_space.n\n",
    "    \n",
    "    print('Obsveration: ', env.observation_space)\n",
    "    print('Action space: ', env.action_space)\n",
    "    \n",
    "    #(self,env, dim_state, dim_action, fc1, fc2 ,maxm_Iters, alpha=1e-4,gamma=0.99 ):\n",
    "    agent = Agent(env,dim_state,dim_action, 256, 256, 1500)\n",
    "    agent.train()\n"
   ]
  },
  {
   "cell_type": "code",
   "execution_count": null,
   "metadata": {},
   "outputs": [],
   "source": []
  }
 ],
 "metadata": {
  "kernelspec": {
   "display_name": "Python 3",
   "language": "python",
   "name": "python3"
  },
  "language_info": {
   "codemirror_mode": {
    "name": "ipython",
    "version": 3
   },
   "file_extension": ".py",
   "mimetype": "text/x-python",
   "name": "python",
   "nbconvert_exporter": "python",
   "pygments_lexer": "ipython3",
   "version": "3.8.5"
  }
 },
 "nbformat": 4,
 "nbformat_minor": 4
}
