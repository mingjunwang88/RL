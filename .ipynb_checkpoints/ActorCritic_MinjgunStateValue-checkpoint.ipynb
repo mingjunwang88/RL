{
 "cells": [
  {
   "cell_type": "markdown",
   "metadata": {},
   "source": [
    "### Example of Reinforcement Learning \n",
    "\n",
    "linear Approxiatio for Policy evaluation."
   ]
  },
  {
   "cell_type": "code",
   "execution_count": 2,
   "metadata": {
    "scrolled": false
   },
   "outputs": [
    {
     "name": "stdout",
     "output_type": "stream",
     "text": [
      "state_size:  4\n",
      "action_size:  2\n"
     ]
    },
    {
     "data": {
      "image/png": "[encoded data removed]",
      "text/plain": [
       "<Figure size 432x288 with 1 Axes>"
      ]
     },
     "metadata": {
      "needs_background": "light"
     },
     "output_type": "display_data"
    }
   ],
   "source": [
    "import torch.nn as nn\n",
    "import torch\n",
    "import torch.nn.functional as F\n",
    "import torch.optim as optim\n",
    "import numpy as np\n",
    "from torch.distributions import Categorical\n",
    "import matplotlib.pyplot as plt\n",
    "import gym \n",
    "\n",
    "def plot_learning_curve(x, scores, figure_file='test'):\n",
    "    running_avg = np.zeros(len(scores))\n",
    "    for i in range(len(running_avg)):\n",
    "        running_avg[i] = np.mean(scores[max(0, i-100):(i+1)])\n",
    "    plt.plot(x, running_avg)\n",
    "    plt.title('Running average of previous 100 scores')\n",
    "    #plt.savefig(figure_file)\n",
    "\n",
    "class Actor(nn.Module):\n",
    "    ## Given the state, what are the probabilities of each action?\n",
    "    def __init__(self, state_size, action_size,fc_dim1=256, fc_dim2=256, alpha=0.0001):\n",
    "        super(Actor, self).__init__()\n",
    "        self.state_size = state_size\n",
    "        self.action_size = action_size\n",
    "        self.linear1 = nn.Linear(state_size, fc_dim1)\n",
    "        self.linear2 = nn.Linear(fc_dim1, fc_dim2)\n",
    "        self.linear3 = nn.Linear(fc_dim2, action_size)\n",
    "        \n",
    "        self.optimizer = optim.Adam(self.parameters(), lr=alpha, weight_decay=1e-5)\n",
    "        \n",
    "    def forward(self, state):\n",
    "        #print ('State Actor: ', state.shape, state)\n",
    "        output =torch.tensor(state.astype(float)).view(-1,self.state_size)\n",
    "        output = F.relu(self.linear1(output))\n",
    "        output = F.relu(self.linear2(output))\n",
    "        output = self.linear3(output)\n",
    "        output = F.softmax(output, dim=1)\n",
    "        distribution = Categorical(output)\n",
    "        #display('distribution: ', distribution)\n",
    "        return distribution #pi(a/s)\n",
    "        \n",
    "class Critic(nn.Module):\n",
    "    ## Calcuale the state value\n",
    "    def __init__(self, state_size, action_size=1, alpha=1e-04, fc_dim1=256, fc_dim2=256,):\n",
    "        super(Critic, self).__init__()\n",
    "        self.state_size = state_size\n",
    "        self.action_size = action_size\n",
    "        ## Assume output one rewards as the output\n",
    "        self.linear1 = nn.Linear(state_size, fc_dim1)\n",
    "        self.linear2 = nn.Linear(fc_dim1, fc_dim2)\n",
    "        self.linear3 = nn.Linear(fc_dim2, action_size)\n",
    "        \n",
    "        self.optimizer = optim.Adam(self.parameters(), lr=alpha, weight_decay=1e-5)\n",
    "        \n",
    "    def forward(self, state):\n",
    "        #Sate is numpy array\n",
    "        #print ('State Critic: ', state.dim, state)\n",
    "        x = torch.tensor(state.astype(float))\n",
    "        output = F.relu(self.linear1(x))\n",
    "        output = F.relu(self.linear2(output))\n",
    "        #display('State: ', state)\n",
    "        #print (x)\n",
    "        V = self.linear3(output)\n",
    "        return V\n",
    "    \n",
    "class Agent():\n",
    "    def __init__(self, gamma, actor, critic, env, episods=1,):\n",
    "        \n",
    "        self.env = env\n",
    "        self.actor = actor.double()\n",
    "        self.critic = critic.double()\n",
    "        self.episods = episods\n",
    "        self.gamma = gamma\n",
    "        \n",
    "        self.device = torch.device('cuda' if torch.cuda.is_available() else 'cpu')\n",
    "\n",
    "    def train(self):\n",
    "        rewards_list =[]\n",
    "\n",
    "        for i in range(self.episods):\n",
    "            total_rewards = 0\n",
    "\n",
    "            self.actor.train()\n",
    "            self.critic.train()\n",
    "            \n",
    "            #display(critic.linear.weight)\n",
    "            \n",
    "            #Initial State\n",
    "            state = self.env.reset()\n",
    "\n",
    "            #print ('Action: ', action)\n",
    "            done=False\n",
    "            while not done:\n",
    "                self.actor.to(self.device)\n",
    "                self.critic.to(self.device)\n",
    "                \n",
    "                self.actor.zero_grad()\n",
    "                self.critic.zero_grad()\n",
    "                \n",
    "                self.actor.train()\n",
    "                self.critic.train()\n",
    "                \n",
    "                ## Sample a action\n",
    "                distribution = self.actor(state)\n",
    "                action = distribution.sample()\n",
    "                          \n",
    "                state_next, rewards, done, _ = self.env.step(action.item())\n",
    "                total_rewards+=rewards \n",
    "                \n",
    "                rewards = torch.tensor(rewards, requires_grad=True,dtype=torch.float64) #Convert to tensor\n",
    "                \n",
    "                ##obtain the TD target value and ready for critic update\n",
    "                target = rewards + self.gamma * self.critic(state_next)*(1.0 - int(done))\n",
    "                \n",
    "                pred = self.critic(state)\n",
    "                \n",
    "                ## Actor loss\n",
    "                loss_actor = -distribution.log_prob(action) * (target-pred)\n",
    "                \n",
    "                ## Critic loss            \n",
    "                loss_critic = (target - pred)**2\n",
    "                \n",
    "                (loss_actor + loss_critic).backward()\n",
    "\n",
    "                self.critic.optimizer.step() \n",
    "                self.actor.optimizer.step() \n",
    "                               \n",
    "                ##Update the state and action                            \n",
    "                state = state_next\n",
    "\n",
    "            rewards_list.append(total_rewards)\n",
    "        \n",
    "        x = [i+1 for i in range(self.episods)]\n",
    "        plot_learning_curve(x, rewards_list)\n",
    "       \n",
    "        #plt.plot(rewards_list)  \n",
    "        #plt.show()\n",
    "\n",
    "    \n",
    "if __name__ == '__main__':\n",
    "    ## Define the Env\n",
    "    env = gym.make(\"CartPole-v1\")\n",
    "    state_size = env.observation_space.shape[0]\n",
    "    action_size = env.action_space.n\n",
    "    print ('state_size: ', state_size)\n",
    "    print ('action_size: ', action_size)\n",
    "\n",
    "    actor = Actor(state_size, action_size)\n",
    "    critic = Critic(state_size)\n",
    "    \n",
    "    agent = Agent(0.99, actor, critic, env,episods=2000)\n",
    "    agent.train()\n",
    "    \n"
   ]
  },
  {
   "cell_type": "code",
   "execution_count": null,
   "metadata": {},
   "outputs": [],
   "source": []
  },
  {
   "cell_type": "code",
   "execution_count": 71,
   "metadata": {},
   "outputs": [
    {
     "data": {
      "text/plain": [
       "4"
      ]
     },
     "execution_count": 71,
     "metadata": {},
     "output_type": "execute_result"
    }
   ],
   "source": [
    "np.amax([np.array([1,2,3,4])])"
   ]
  },
  {
   "cell_type": "code",
   "execution_count": 73,
   "metadata": {},
   "outputs": [
    {
     "name": "stdout",
     "output_type": "stream",
     "text": [
      "cpu\n"
     ]
    }
   ],
   "source": [
    "device = torch.device('cuda' if torch.cuda.is_available() else 'cpu')\n",
    "print (device)"
   ]
  },
  {
   "cell_type": "code",
   "execution_count": 364,
   "metadata": {},
   "outputs": [
    {
     "name": "stdout",
     "output_type": "stream",
     "text": [
      "[[1 2 3]\n",
      " [2 4 5]\n",
      " [1 2 3]]\n",
      "[1 2 3 2 4 5 1 2 3]\n"
     ]
    }
   ],
   "source": [
    "ini_array1 = np.array([[1, 2, 3], [2, 4, 5], [1, 2, 3]]) \n",
    "print (ini_array1)\n",
    "print (ini_array1.flatten())"
   ]
  },
  {
   "cell_type": "code",
   "execution_count": 347,
   "metadata": {},
   "outputs": [
    {
     "name": "stdout",
     "output_type": "stream",
     "text": [
      "5\n"
     ]
    }
   ],
   "source": [
    "for i in (5,):\n",
    "    print (i)"
   ]
  },
  {
   "cell_type": "code",
   "execution_count": 4,
   "metadata": {},
   "outputs": [
    {
     "data": {
      "text/plain": [
       "60"
      ]
     },
     "execution_count": 4,
     "metadata": {},
     "output_type": "execute_result"
    }
   ],
   "source": [
    "import math\n",
    "math.floor(65/10)*10"
   ]
  },
  {
   "cell_type": "code",
   "execution_count": 1,
   "metadata": {},
   "outputs": [
    {
     "name": "stdout",
     "output_type": "stream",
     "text": [
      "Requirement already satisfied: gym[all] in /Users/mingjunwang/miniconda3/envs/tf-3/lib/python3.7/site-packages (0.15.4)\n",
      "Requirement already satisfied: pyglet<=1.3.2,>=1.2.0 in /Users/mingjunwang/miniconda3/envs/tf-3/lib/python3.7/site-packages (from gym[all]) (1.3.2)\n",
      "Requirement already satisfied: numpy>=1.10.4 in /Users/mingjunwang/miniconda3/envs/tf-3/lib/python3.7/site-packages (from gym[all]) (1.16.4)\n",
      "Requirement already satisfied: cloudpickle~=1.2.0 in /Users/mingjunwang/miniconda3/envs/tf-3/lib/python3.7/site-packages (from gym[all]) (1.2.2)\n",
      "Requirement already satisfied: opencv-python in /Users/mingjunwang/miniconda3/envs/tf-3/lib/python3.7/site-packages (from gym[all]) (4.1.2.30)\n",
      "Requirement already satisfied: six in /Users/mingjunwang/miniconda3/envs/tf-3/lib/python3.7/site-packages (from gym[all]) (1.12.0)\n",
      "Requirement already satisfied: scipy in /Users/mingjunwang/miniconda3/envs/tf-3/lib/python3.7/site-packages (from gym[all]) (1.2.1)\n",
      "Collecting box2d-py~=2.3.5; extra == \"all\" (from gym[all])\n",
      "\u001b[?25l  Downloading https://files.pythonhosted.org/packages/02/a8/f6f6986fe3c8f53ef8ddf7ac73ec7f87e45b0beccce8067194fa8d658a07/box2d_py-2.3.8-cp37-cp37m-macosx_10_6_intel.macosx_10_9_intel.macosx_10_9_x86_64.macosx_10_10_intel.macosx_10_10_x86_64.whl (940kB)\n",
      "\u001b[K     |████████████████████████████████| 942kB 837kB/s eta 0:00:01\n",
      "\u001b[?25hRequirement already satisfied: imageio; extra == \"all\" in /Users/mingjunwang/miniconda3/envs/tf-3/lib/python3.7/site-packages (from gym[all]) (2.5.0)\n",
      "Requirement already satisfied: atari-py~=0.2.0; extra == \"all\" in /Users/mingjunwang/miniconda3/envs/tf-3/lib/python3.7/site-packages (from gym[all]) (0.2.6)\n",
      "Requirement already satisfied: Pillow; extra == \"all\" in /Users/mingjunwang/miniconda3/envs/tf-3/lib/python3.7/site-packages (from gym[all]) (6.1.0)\n",
      "Collecting mujoco-py<2.0,>=1.50; extra == \"all\" (from gym[all])\n",
      "\u001b[?25l  Downloading https://files.pythonhosted.org/packages/cf/8c/64e0630b3d450244feef0688d90eab2448631e40ba6bdbd90a70b84898e7/mujoco-py-1.50.1.68.tar.gz (120kB)\n",
      "\u001b[K     |████████████████████████████████| 122kB 2.3MB/s eta 0:00:01\n",
      "\u001b[?25hRequirement already satisfied: future in /Users/mingjunwang/miniconda3/envs/tf-3/lib/python3.7/site-packages (from pyglet<=1.3.2,>=1.2.0->gym[all]) (0.18.2)\n",
      "Collecting glfw>=1.4.0 (from mujoco-py<2.0,>=1.50; extra == \"all\"->gym[all])\n",
      "\u001b[?25l  Downloading https://files.pythonhosted.org/packages/47/dd/c9ac0e7a55856b22b91131203cb104b8ef704ba7f1242203f69d39899ad0/glfw-1.12.0-py2.py27.py3.py30.py31.py32.py33.py34.py35.py36.py37.py38-none-macosx_10_6_intel.whl (99kB)\n",
      "\u001b[K     |████████████████████████████████| 102kB 4.0MB/s ta 0:00:011\n",
      "\u001b[?25hRequirement already satisfied: Cython>=0.27.2 in /Users/mingjunwang/miniconda3/envs/tf-3/lib/python3.7/site-packages (from mujoco-py<2.0,>=1.50; extra == \"all\"->gym[all]) (0.29.19)\n",
      "Requirement already satisfied: cffi>=1.10 in /Users/mingjunwang/miniconda3/envs/tf-3/lib/python3.7/site-packages (from mujoco-py<2.0,>=1.50; extra == \"all\"->gym[all]) (1.12.3)\n",
      "Collecting lockfile>=0.12.2 (from mujoco-py<2.0,>=1.50; extra == \"all\"->gym[all])\n",
      "  Downloading https://files.pythonhosted.org/packages/c8/22/9460e311f340cb62d26a38c419b1381b8593b0bb6b5d1f056938b086d362/lockfile-0.12.2-py2.py3-none-any.whl\n",
      "Requirement already satisfied: pycparser in /Users/mingjunwang/miniconda3/envs/tf-3/lib/python3.7/site-packages (from cffi>=1.10->mujoco-py<2.0,>=1.50; extra == \"all\"->gym[all]) (2.19)\n",
      "Building wheels for collected packages: mujoco-py\n",
      "  Building wheel for mujoco-py (setup.py) ... \u001b[?25lerror\n",
      "\u001b[31m  ERROR: Complete output from command /Users/mingjunwang/miniconda3/envs/tf-3/bin/python -u -c 'import setuptools, tokenize;__file__='\"'\"'/private/var/folders/1y/c_p95k1j0p9gb9bbqtc4xds00000gp/T/pip-install-inmxi481/mujoco-py/setup.py'\"'\"';f=getattr(tokenize, '\"'\"'open'\"'\"', open)(__file__);code=f.read().replace('\"'\"'\\r\\n'\"'\"', '\"'\"'\\n'\"'\"');f.close();exec(compile(code, __file__, '\"'\"'exec'\"'\"'))' bdist_wheel -d /private/var/folders/1y/c_p95k1j0p9gb9bbqtc4xds00000gp/T/pip-wheel-iezqhs3s --python-tag cp37:\u001b[0m\n",
      "\u001b[31m  ERROR: running bdist_wheel\n",
      "  running build\n",
      "  Traceback (most recent call last):\n",
      "    File \"<string>\", line 1, in <module>\n",
      "    File \"/private/var/folders/1y/c_p95k1j0p9gb9bbqtc4xds00000gp/T/pip-install-inmxi481/mujoco-py/setup.py\", line 44, in <module>\n",
      "      tests_require=read_requirements_file('requirements.dev.txt'),\n",
      "    File \"/Users/mingjunwang/miniconda3/envs/tf-3/lib/python3.7/site-packages/setuptools/__init__.py\", line 145, in setup\n",
      "      return distutils.core.setup(**attrs)\n",
      "    File \"/Users/mingjunwang/miniconda3/envs/tf-3/lib/python3.7/distutils/core.py\", line 148, in setup\n",
      "      dist.run_commands()\n",
      "    File \"/Users/mingjunwang/miniconda3/envs/tf-3/lib/python3.7/distutils/dist.py\", line 966, in run_commands\n",
      "      self.run_command(cmd)\n",
      "    File \"/Users/mingjunwang/miniconda3/envs/tf-3/lib/python3.7/distutils/dist.py\", line 985, in run_command\n",
      "      cmd_obj.run()\n",
      "    File \"/Users/mingjunwang/miniconda3/envs/tf-3/lib/python3.7/site-packages/wheel/bdist_wheel.py\", line 192, in run\n",
      "      self.run_command('build')\n",
      "    File \"/Users/mingjunwang/miniconda3/envs/tf-3/lib/python3.7/distutils/cmd.py\", line 313, in run_command\n",
      "      self.distribution.run_command(command)\n",
      "    File \"/Users/mingjunwang/miniconda3/envs/tf-3/lib/python3.7/distutils/dist.py\", line 985, in run_command\n",
      "      cmd_obj.run()\n",
      "    File \"/private/var/folders/1y/c_p95k1j0p9gb9bbqtc4xds00000gp/T/pip-install-inmxi481/mujoco-py/setup.py\", line 28, in run\n",
      "      import mujoco_py  # noqa: force build\n",
      "    File \"/private/var/folders/1y/c_p95k1j0p9gb9bbqtc4xds00000gp/T/pip-install-inmxi481/mujoco-py/mujoco_py/__init__.py\", line 3, in <module>\n",
      "      from mujoco_py.builder import cymj, ignore_mujoco_warnings, functions, MujocoException\n",
      "    File \"/private/var/folders/1y/c_p95k1j0p9gb9bbqtc4xds00000gp/T/pip-install-inmxi481/mujoco-py/mujoco_py/builder.py\", line 20, in <module>\n",
      "      from lockfile import LockFile\n",
      "  ModuleNotFoundError: No module named 'lockfile'\n",
      "  ----------------------------------------\u001b[0m\n",
      "\u001b[31m  ERROR: Failed building wheel for mujoco-py\u001b[0m\n",
      "\u001b[?25h  Running setup.py clean for mujoco-py\n",
      "Failed to build mujoco-py\n",
      "Installing collected packages: box2d-py, glfw, lockfile, mujoco-py\n",
      "  Running setup.py install for mujoco-py ... \u001b[?25lerror\n",
      "\u001b[31m    ERROR: Complete output from command /Users/mingjunwang/miniconda3/envs/tf-3/bin/python -u -c 'import setuptools, tokenize;__file__='\"'\"'/private/var/folders/1y/c_p95k1j0p9gb9bbqtc4xds00000gp/T/pip-install-inmxi481/mujoco-py/setup.py'\"'\"';f=getattr(tokenize, '\"'\"'open'\"'\"', open)(__file__);code=f.read().replace('\"'\"'\\r\\n'\"'\"', '\"'\"'\\n'\"'\"');f.close();exec(compile(code, __file__, '\"'\"'exec'\"'\"'))' install --record /private/var/folders/1y/c_p95k1j0p9gb9bbqtc4xds00000gp/T/pip-record-uz55t6yx/install-record.txt --single-version-externally-managed --compile:\u001b[0m\n",
      "\u001b[31m    ERROR: running install\n",
      "    running build\n",
      "    \n",
      "    You appear to be missing MuJoCo.  We expected to find the file here: /Users/mingjunwang/.mujoco/mjpro150\n",
      "    \n",
      "    This package only provides python bindings, the library must be installed separately.\n",
      "    \n",
      "    Please follow the instructions on the README to install MuJoCo\n",
      "    \n",
      "        https://github.com/openai/mujoco-py#install-mujoco\n",
      "    \n",
      "    Which can be downloaded from the website\n",
      "    \n",
      "        https://www.roboti.us/index.html\n",
      "    \n",
      "    Traceback (most recent call last):\n",
      "      File \"<string>\", line 1, in <module>\n",
      "      File \"/private/var/folders/1y/c_p95k1j0p9gb9bbqtc4xds00000gp/T/pip-install-inmxi481/mujoco-py/setup.py\", line 44, in <module>\n",
      "        tests_require=read_requirements_file('requirements.dev.txt'),\n",
      "      File \"/Users/mingjunwang/miniconda3/envs/tf-3/lib/python3.7/site-packages/setuptools/__init__.py\", line 145, in setup\n",
      "        return distutils.core.setup(**attrs)\n",
      "      File \"/Users/mingjunwang/miniconda3/envs/tf-3/lib/python3.7/distutils/core.py\", line 148, in setup\n",
      "        dist.run_commands()\n",
      "      File \"/Users/mingjunwang/miniconda3/envs/tf-3/lib/python3.7/distutils/dist.py\", line 966, in run_commands\n",
      "        self.run_command(cmd)\n",
      "      File \"/Users/mingjunwang/miniconda3/envs/tf-3/lib/python3.7/distutils/dist.py\", line 985, in run_command\n",
      "        cmd_obj.run()\n",
      "      File \"/Users/mingjunwang/miniconda3/envs/tf-3/lib/python3.7/site-packages/setuptools/command/install.py\", line 61, in run\n",
      "        return orig.install.run(self)\n",
      "      File \"/Users/mingjunwang/miniconda3/envs/tf-3/lib/python3.7/distutils/command/install.py\", line 545, in run\n",
      "        self.run_command('build')\n",
      "      File \"/Users/mingjunwang/miniconda3/envs/tf-3/lib/python3.7/distutils/cmd.py\", line 313, in run_command\n",
      "        self.distribution.run_command(command)\n",
      "      File \"/Users/mingjunwang/miniconda3/envs/tf-3/lib/python3.7/distutils/dist.py\", line 985, in run_command\n",
      "        cmd_obj.run()\n",
      "      File \"/private/var/folders/1y/c_p95k1j0p9gb9bbqtc4xds00000gp/T/pip-install-inmxi481/mujoco-py/setup.py\", line 28, in run\n",
      "        import mujoco_py  # noqa: force build\n",
      "      File \"/private/var/folders/1y/c_p95k1j0p9gb9bbqtc4xds00000gp/T/pip-install-inmxi481/mujoco-py/mujoco_py/__init__.py\", line 3, in <module>\n",
      "        from mujoco_py.builder import cymj, ignore_mujoco_warnings, functions, MujocoException\n",
      "      File \"/private/var/folders/1y/c_p95k1j0p9gb9bbqtc4xds00000gp/T/pip-install-inmxi481/mujoco-py/mujoco_py/builder.py\", line 502, in <module>\n",
      "        mjpro_path, key_path = discover_mujoco()\n",
      "      File \"/private/var/folders/1y/c_p95k1j0p9gb9bbqtc4xds00000gp/T/pip-install-inmxi481/mujoco-py/mujoco_py/utils.py\", line 93, in discover_mujoco\n",
      "        raise Exception(message)\n",
      "    Exception:\n",
      "    You appear to be missing MuJoCo.  We expected to find the file here: /Users/mingjunwang/.mujoco/mjpro150\n",
      "    \n",
      "    This package only provides python bindings, the library must be installed separately.\n",
      "    \n",
      "    Please follow the instructions on the README to install MuJoCo\n",
      "    \n",
      "        https://github.com/openai/mujoco-py#install-mujoco\n",
      "    \n",
      "    Which can be downloaded from the website\n",
      "    \n",
      "        https://www.roboti.us/index.html\n",
      "    \n",
      "    ----------------------------------------\u001b[0m\n"
     ]
    },
    {
     "name": "stdout",
     "output_type": "stream",
     "text": [
      "\u001b[31mERROR: Command \"/Users/mingjunwang/miniconda3/envs/tf-3/bin/python -u -c 'import setuptools, tokenize;__file__='\"'\"'/private/var/folders/1y/c_p95k1j0p9gb9bbqtc4xds00000gp/T/pip-install-inmxi481/mujoco-py/setup.py'\"'\"';f=getattr(tokenize, '\"'\"'open'\"'\"', open)(__file__);code=f.read().replace('\"'\"'\\r\\n'\"'\"', '\"'\"'\\n'\"'\"');f.close();exec(compile(code, __file__, '\"'\"'exec'\"'\"'))' install --record /private/var/folders/1y/c_p95k1j0p9gb9bbqtc4xds00000gp/T/pip-record-uz55t6yx/install-record.txt --single-version-externally-managed --compile\" failed with error code 1 in /private/var/folders/1y/c_p95k1j0p9gb9bbqtc4xds00000gp/T/pip-install-inmxi481/mujoco-py/\u001b[0m\n",
      "\u001b[?25hNote: you may need to restart the kernel to use updated packages.\n"
     ]
    }
   ],
   "source": []
  },
  {
   "cell_type": "code",
   "execution_count": null,
   "metadata": {},
   "outputs": [],
   "source": []
  }
 ],
 "metadata": {
  "kernelspec": {
   "display_name": "Python 3",
   "language": "python",
   "name": "python3"
  },
  "language_info": {
   "codemirror_mode": {
    "name": "ipython",
    "version": 3
   },
   "file_extension": ".py",
   "mimetype": "text/x-python",
   "name": "python",
   "nbconvert_exporter": "python",
   "pygments_lexer": "ipython3",
   "version": "3.7.3"
  }
 },
 "nbformat": 4,
 "nbformat_minor": 2
}
