{
 "cells": [
  {
   "cell_type": "markdown",
   "metadata": {},
   "source": [
    "### Example of Reinforcement Learning \n",
    "\n",
    "linear Approxiatio for Policy evaluation."
   ]
  },
  {
   "cell_type": "code",
   "execution_count": 10,
   "metadata": {
    "scrolled": false
   },
   "outputs": [
    {
     "name": "stdout",
     "output_type": "stream",
     "text": [
      "state_size:  4\n",
      "action_size:  2\n"
     ]
    },
    {
     "data": {
      "image/png": "[encoded data removed]",
      "text/plain": [
       "<Figure size 432x288 with 1 Axes>"
      ]
     },
     "metadata": {
      "needs_background": "light"
     },
     "output_type": "display_data"
    }
   ],
   "source": [
    "import torch.nn as nn\n",
    "import torch\n",
    "import torch.nn.functional as F\n",
    "import torch.optim as optim\n",
    "import numpy as np\n",
    "from torch.distributions import Categorical\n",
    "import matplotlib.pyplot as plt\n",
    "import gym \n",
    "\n",
    "\n",
    "def plot_learning_curve(x, scores, figure_file='test'):\n",
    "    running_avg = np.zeros(len(scores))\n",
    "    for i in range(len(running_avg)):\n",
    "        running_avg[i] = np.mean(scores[max(0, i-100):(i+1)])\n",
    "    plt.plot(x, running_avg)\n",
    "    plt.title('Running average of previous 100 scores')\n",
    "    #plt.savefig(figure_file)\n",
    "    \n",
    "    \n",
    "class Actor(nn.Module):\n",
    "    ## Given the state, what are the probabilities of each action?\n",
    "    def __init__(self, state_size, action_size,fc_dim1=256, fc_dim2=256, alpha=0.00001):\n",
    "        super(Actor, self).__init__()\n",
    "        self.state_size = state_size\n",
    "        self.action_size = action_size\n",
    "        self.linear1 = nn.Linear(state_size, fc_dim1)\n",
    "        self.linear2 = nn.Linear(fc_dim1, fc_dim2)\n",
    "        self.linear3 = nn.Linear(fc_dim2, action_size)\n",
    "        \n",
    "        self.optimizer = optim.Adam(self.parameters(), lr=alpha, weight_decay=1e-5)\n",
    "        self.loss_fun = nn.MSELoss()\n",
    "        \n",
    "        self.device = torch.device('cuda' if torch.cuda.is_available() else 'cpu')\n",
    "        \n",
    "    def forward(self, state):\n",
    "        #print ('State Actor: ', state.shape, state)\n",
    "        output =torch.tensor(state.astype(float)).view(-1,self.state_size).to(self.device)\n",
    "        output = F.relu(self.linear1(output))\n",
    "        output = F.relu(self.linear2(output))\n",
    "        output = self.linear3(output)\n",
    "        output = F.softmax(output, dim=1)\n",
    "        distribution = Categorical(output)\n",
    "        #display('distribution: ', distribution)\n",
    "        return distribution #pi(a/s)\n",
    "        \n",
    "class Critic(nn.Module):\n",
    "    ## Given the state, what is the action value for each ?\n",
    "    def __init__(self, state_size, action_size, alpha=1e-04,fc_dim1=256, fc_dim2=256,):\n",
    "        super(Critic, self).__init__()\n",
    "        self.state_size = state_size\n",
    "        self.action_size = action_size\n",
    "        ## Assume output one rewards as the output\n",
    "        self.linear1 = nn.Linear(state_size, fc_dim1)\n",
    "        self.linear2 = nn.Linear(fc_dim1, fc_dim2)\n",
    "        self.linear3 = nn.Linear(fc_dim2, action_size)\n",
    "        \n",
    "        self.optimizer = optim.Adam(self.parameters(), lr=alpha, weight_decay=1e-5)\n",
    "        self.loss_fun = nn.MSELoss()\n",
    "        \n",
    "        self.device = torch.device('cuda' if torch.cuda.is_available() else 'cpu')\n",
    "        \n",
    "    def forward(self, state):\n",
    "        #Sate is numpy array\n",
    "        #print ('State Critic: ', state.dim, state)\n",
    "        x = torch.tensor(state.astype(float)).to(self.device)\n",
    "        output = F.relu(self.linear1(x))\n",
    "        output = F.relu(self.linear2(output))\n",
    "        #display('State: ', state)\n",
    "        #print (x)\n",
    "        Qs = self.linear3(output)\n",
    "        return Qs ##Output the each Q value for each action\n",
    "    \n",
    "class Agent():\n",
    "    def __init__(self, gamma, actor, critic, env, episods=1,):\n",
    "        \n",
    "        self.env = env\n",
    "        self.episods = episods\n",
    "        self.gamma = gamma\n",
    "        \n",
    "        self.device = torch.device('cuda' if torch.cuda.is_available() else 'cpu')\n",
    "        \n",
    "        self.actor = actor.double().to(self.device)\n",
    "        self.critic = critic.double().to(self.device)\n",
    "        \n",
    "\n",
    "    def train(self):\n",
    "        rewards_list =[]\n",
    "        \n",
    "        for i in range(self.episods):\n",
    "            total_rewards = 0\n",
    "            \n",
    "            self.actor.train()\n",
    "            self.critic.train()\n",
    "\n",
    "            #Initial State\n",
    "            state = self.env.reset()\n",
    "            \n",
    "            ## Sample a action\n",
    "            distribution = self.actor(state)\n",
    "            action = distribution.sample().to(self.device)\n",
    "  \n",
    "            done=False\n",
    "            while not done:\n",
    "                self.actor.zero_grad()\n",
    "                self.critic.zero_grad()\n",
    "                \n",
    "                ## Sample a action\n",
    "                #distribution = self.actor(state)\n",
    "                #action = distribution.sample().to(self.device)\n",
    "                \n",
    "                #print ('Action: ', action)\n",
    "                state_next, reward, done, _ = self.env.step(action.item())\n",
    "                total_rewards+=reward\n",
    "                \n",
    "                reward = torch.tensor(reward, requires_grad=True,dtype=torch.float64).to(self.device) #Convert to tensor               \n",
    "                \n",
    "                ##Sample the next action\n",
    "                distribution = self.actor(state_next)\n",
    "                action_next = distribution.sample().to(self.device) #tensor\n",
    "                #print('action_next: ', action_next)\n",
    "\n",
    "                ##obtain the TD target value and ready for critic update\n",
    "                #print (action_next.item())\n",
    "                target = (reward + self.gamma * self.critic(state_next)[action_next.item()]*(1.0 - int(done))).to(self.device)\n",
    "\n",
    "                pred = self.critic(state)[action.item()].to(self.device)\n",
    "                #display(target, ' ' , pred)\n",
    "                \n",
    "                ## Have the loss function for actor and update actor params\n",
    "                loss_actor = (-distribution.log_prob(action) * (target-pred)).to(self.device)  #(target-pred.mean())\n",
    "                            \n",
    "                loss_critic = ((target - pred)**2).to(self.device)\n",
    "                \n",
    "                (loss_actor + loss_critic).backward()\n",
    "                #loss_actor.backward(retain_graph=True)\n",
    "                #loss_critic.backward()\n",
    "                \n",
    "                ##Update the state                          \n",
    "                state = state_next\n",
    "                action = action_next\n",
    "                                \n",
    "                self.critic.optimizer.step() \n",
    "                self.actor.optimizer.step() \n",
    "            \n",
    "            rewards_list.append(total_rewards)\n",
    "            \n",
    "        \n",
    "        x = [i+1 for i in range(self.episods)]\n",
    "        plot_learning_curve(x, rewards_list)\n",
    "        \n",
    "\n",
    "if __name__ == '__main__':\n",
    "    ## Define the Env\n",
    "    #env = gym.make(\"CartPole-v1\")  \n",
    "    env = gym.make(\"AirRaid-ram-v0\") \n",
    "    \n",
    "    #env = gym.make(\"Pendulum-v0\")\n",
    "    state_size = env.observation_space.shape[0]\n",
    "    action_size = env.action_space.n\n",
    "    print ('state_size: ', state_size)\n",
    "    print ('action_size: ', action_size)\n",
    "\n",
    "    actor = Actor(state_size, action_size)\n",
    "    critic = Critic(state_size, action_size)\n",
    "    \n",
    "    agent = Agent(0.99, actor, critic, env,episods=2000)\n",
    "    agent.train()\n",
    "    \n"
   ]
  },
  {
   "cell_type": "code",
   "execution_count": null,
   "metadata": {},
   "outputs": [],
   "source": []
  },
  {
   "cell_type": "code",
   "execution_count": 71,
   "metadata": {},
   "outputs": [
    {
     "data": {
      "text/plain": [
       "4"
      ]
     },
     "execution_count": 71,
     "metadata": {},
     "output_type": "execute_result"
    }
   ],
   "source": [
    "np.amax([np.array([1,2,3,4])])"
   ]
  },
  {
   "cell_type": "code",
   "execution_count": 73,
   "metadata": {},
   "outputs": [
    {
     "name": "stdout",
     "output_type": "stream",
     "text": [
      "cpu\n"
     ]
    }
   ],
   "source": [
    "device = torch.device('cuda' if torch.cuda.is_available() else 'cpu')\n",
    "print (device)"
   ]
  },
  {
   "cell_type": "code",
   "execution_count": 364,
   "metadata": {},
   "outputs": [
    {
     "name": "stdout",
     "output_type": "stream",
     "text": [
      "[[1 2 3]\n",
      " [2 4 5]\n",
      " [1 2 3]]\n",
      "[1 2 3 2 4 5 1 2 3]\n"
     ]
    }
   ],
   "source": [
    "ini_array1 = np.array([[1, 2, 3], [2, 4, 5], [1, 2, 3]]) \n",
    "print (ini_array1)\n",
    "print (ini_array1.flatten())"
   ]
  },
  {
   "cell_type": "code",
   "execution_count": 347,
   "metadata": {},
   "outputs": [
    {
     "name": "stdout",
     "output_type": "stream",
     "text": [
      "5\n"
     ]
    }
   ],
   "source": [
    "for i in (5,):\n",
    "    print (i)"
   ]
  },
  {
   "cell_type": "code",
   "execution_count": 1,
   "metadata": {},
   "outputs": [
    {
     "data": {
      "text/plain": [
       "16777216"
      ]
     },
     "execution_count": 1,
     "metadata": {},
     "output_type": "execute_result"
    }
   ],
   "source": [
    "2**24"
   ]
  }
 ],
 "metadata": {
  "kernelspec": {
   "display_name": "Python 3",
   "language": "python",
   "name": "python3"
  },
  "language_info": {
   "codemirror_mode": {
    "name": "ipython",
    "version": 3
   },
   "file_extension": ".py",
   "mimetype": "text/x-python",
   "name": "python",
   "nbconvert_exporter": "python",
   "pygments_lexer": "ipython3",
   "version": "3.7.3"
  }
 },
 "nbformat": 4,
 "nbformat_minor": 2
}
