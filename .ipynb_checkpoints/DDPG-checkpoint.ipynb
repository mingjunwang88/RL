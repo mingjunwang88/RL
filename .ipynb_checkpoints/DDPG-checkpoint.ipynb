{
 "cells": [
  {
   "cell_type": "code",
   "execution_count": 1,
   "metadata": {},
   "outputs": [
    {
     "name": "stdout",
     "output_type": "stream",
     "text": [
      "3 1\n"
     ]
    },
    {
     "data": {
      "image/png": "[encoded data removed]",
      "text/plain": [
       "<Figure size 432x288 with 1 Axes>"
      ]
     },
     "metadata": {
      "needs_background": "light"
     },
     "output_type": "display_data"
    }
   ],
   "source": [
    "import torch as t\n",
    "import torch.nn as nn\n",
    "import torch.optim as optim\n",
    "import torch.nn.functional as f\n",
    "import numpy as np\n",
    "import matplotlib.pyplot as plt\n",
    "import gym\n",
    "\n",
    "###################################################\n",
    "# Deep Deterministic Policy Gradient\n",
    "###################################################\n",
    "\n",
    "class Actor(nn.Module):\n",
    "    def __init__(self, dim_state, dim_action, fc1, fc2, alpha,checkpoint='actor' ):\n",
    "        super(Actor, self).__init__()\n",
    "        self.dim_state = dim_state\n",
    "        self.dim_action = dim_action\n",
    "        \n",
    "        self.linear1 = nn.Linear(dim_state, fc1)\n",
    "        self.linear2 = nn.Linear(fc1, fc2)\n",
    "        self.linear3 = nn.Linear(fc2, dim_action)\n",
    "        \n",
    "        self.device = t.device('cpu' if t.cuda.is_available() else 'cpu')\n",
    "        self.optimizer = optim.Adam(self.parameters(), lr=alpha, weight_decay=1e-4)\n",
    "        self.to(self.device)\n",
    "        self.path = checkpoint\n",
    "        \n",
    "    def forward(self, state):\n",
    "        output = state.to(self.device)\n",
    "        \n",
    "        output = f.relu(self.linear1(output))\n",
    "        output = f.relu(self.linear2(output))\n",
    "        output = self.linear3(output)\n",
    "        \n",
    "        return output\n",
    "    \n",
    "    def saveCheckpoint(self):\n",
    "        print ('...saving check point...')\n",
    "        t.save(self.state_dict(), self.path)\n",
    "    \n",
    "    def loadCheckpoint(self):\n",
    "        print('...loading check point')\n",
    "        self.load_state_dict(t.load(self.path))\n",
    "    \n",
    "class Critic(nn.Module):   \n",
    "    def __init__(self, dim_state, dim_action, fc1, fc2, alpha,checkpoint='critic'):\n",
    "        super(Critic, self).__init__()\n",
    "        self.dim_state = dim_state\n",
    "        self.dim_action = dim_action\n",
    "        self.path = checkpoint\n",
    "        \n",
    "        self.linear1 = nn.Linear(dim_state+ dim_action, fc1)\n",
    "        self.linear2 = nn.Linear(fc1, fc2)\n",
    "        self.linear3 = nn.Linear(fc2,1)\n",
    "        self.optimizer = optim.Adam(self.parameters(), lr = alpha, weight_decay=1e-4)\n",
    "        self.device = t.device('cpu' if t.cuda.is_available() else 'cpu')\n",
    "        self.to(self.device)\n",
    "        \n",
    "    def forward(self, state, action):\n",
    "        state = state.to(self.device)\n",
    "        action = action.to(self.device)\n",
    "        \n",
    "        output = t.relu(self.linear1(t.cat((state, action), dim=1)))\n",
    "        output = t.relu(self.linear2(output))\n",
    "        output = self.linear3(output)\n",
    "        \n",
    "        return output\n",
    "    \n",
    "    def saveCheckpoint(self):\n",
    "        print('...save checkout...')\n",
    "        t.save(self.state_dict(), self.path)\n",
    "    \n",
    "    def loadCheckpoint(self):\n",
    "        print ('...load checj point...')\n",
    "        self.load_state_dict(t.load(self.path))\n",
    "        \n",
    "        \n",
    "class replayBuffer():\n",
    "    def __init__(self, maxm_size, dim_state, dim_action):\n",
    "        self.counter = 0\n",
    "        self.state_mem = np.zeros((maxm_size, dim_state))\n",
    "        self.action_mem = np.zeros((maxm_size, dim_action))\n",
    "        self.reward_mem = np.zeros(maxm_size)\n",
    "        self.state_new_mem = np.zeros((maxm_size, dim_state))\n",
    "        self.done_mem = np.zeros(maxm_size)\n",
    "        self.maxm_size = maxm_size\n",
    "        \n",
    "    def store_Transaction(self, state, action, reward, state_new, done):\n",
    "        index = self.counter % self.maxm_size\n",
    "        \n",
    "        self.state_mem[index] = state\n",
    "        self.action_mem[index] = action\n",
    "        self.reward_mem[index] = reward\n",
    "        self.state_new_mem[index] =state_new\n",
    "        self.done_mem[index] = 1.0 - done\n",
    "        \n",
    "        self.counter+=1\n",
    "    \n",
    "    def sample_batch(self, batch_size=126):\n",
    "        maxm_size = min(self.counter, self.maxm_size)\n",
    "        batch = np.random.choice(maxm_size, batch_size)\n",
    "        \n",
    "        state_batch = self.state_mem[batch]\n",
    "        action_batch = self.action_mem[batch]\n",
    "        reward_batch = self.reward_mem[batch]\n",
    "        state_new_batch = self.state_new_mem[batch]\n",
    "        done_batch = self.done_mem[batch]\n",
    "        \n",
    "        return state_batch, action_batch,reward_batch,state_new_batch,done_batch\n",
    "        \n",
    "    \n",
    "class Agent():\n",
    "    def __init__(self, env, dim_state, dim_action, fc1, fc2, alpha, gamma, maxm_size, maxm_iters=50, batch_size=126):\n",
    "        self.dim_state = dim_state\n",
    "        self.dim_action = dim_action\n",
    "        self.maxm_iters = maxm_iters\n",
    "        \n",
    "        self.actor=Actor(dim_state, dim_action, fc1, fc2, alpha,checkpoint='actor')\n",
    "        self.critic=Critic(dim_state, dim_action, fc1, fc2, alpha,checkpoint='critic')\n",
    "        \n",
    "        self.buffer = replayBuffer(maxm_size, dim_state, dim_action) # maxm_size, dim_state, dim_action):\n",
    "        self.gamma = gamma\n",
    "        self.batch_size = batch_size\n",
    "        \n",
    "        self.device = t.device('cpu' if t.cuda.is_available() else 'cpu')\n",
    "        \n",
    "    def plot_learning_curve(self,x, scores, figure_file='test'):\n",
    "        running_avg = np.zeros(len(scores))\n",
    "        for i in range(len(running_avg)):\n",
    "            running_avg[i] = np.mean(scores[max(0, i-100):(i+1)])\n",
    "        plt.plot(x, running_avg)\n",
    "        plt.title('Running average of previous 100 scores')\n",
    "        #plt.savefig(figure_file)\n",
    "        \n",
    "    \n",
    "    def train(self):\n",
    "        \n",
    "        self.critic.train()\n",
    "        self.actor.train()\n",
    "        reward_list = []  \n",
    "           \n",
    "        for i in range(self.maxm_iters):\n",
    "            self.critic.zero_grad()\n",
    "            self.actor.zero_grad()\n",
    "            \n",
    "            done= False\n",
    "            state = env.reset()       \n",
    "            total_reward= 0\n",
    "            \n",
    "            n= 0\n",
    "            while not done:\n",
    "                action = self.actor(t.tensor(state).float().to(self.device)).detach().numpy()\n",
    "                state_new, reward, done, _ = env.step(action)\n",
    "                total_reward+=reward\n",
    "        \n",
    "                self.buffer.store_Transaction(state, action, reward, state_new, done)\n",
    "\n",
    "                state_batch, action_batch, reward_batch, state_new_batch, done_batch = self.buffer.sample_batch()\n",
    "                        \n",
    "                ##Update the critic\n",
    "                target = t.tensor(reward_batch).view(-1,1)+self.gamma*self.critic(t.tensor(state_new_batch).float(),self.actor(t.tensor(state_new_batch).float()))*t.tensor(done_batch).view(-1,1)\n",
    "                preds = self.critic(t.tensor(state_batch).float(), t.tensor(action_batch).float())\n",
    "        \n",
    "                loss_critic = t.sum((target - preds)**2)\n",
    "                loss_critic.backward()\n",
    "                self.critic.optimizer.step()\n",
    "        \n",
    "                ##Update the actor\n",
    "                loss_actor = -self.critic(t.tensor(state_batch).float(), self.actor(t.tensor(state_batch).float()))\n",
    "                loss_actor = loss_actor.mean()\n",
    "                loss_actor.backward()\n",
    "                self.actor.optimizer.step()\n",
    "        \n",
    "                state = state_new\n",
    "            reward_list.append(total_reward)\n",
    "        #print (reward_list)\n",
    "        \n",
    "        x = [i+1 for i in range(self.maxm_iters)]\n",
    "        self.plot_learning_curve(x, reward_list)\n",
    "        \n",
    "if __name__ == '__main__':\n",
    "    env = gym.make('Pendulum-v1')\n",
    "    #env = or_gym.make('InvManagement-v1')\n",
    "    \n",
    "    dim_state = env.observation_space.shape[0]\n",
    "    dim_action = env.action_space.shape[0]\n",
    "    print(dim_state,dim_action)\n",
    "    agent = Agent(env,3,1, 256, 256, 1e-5, 0.99, 3000, maxm_iters=5000)\n",
    "    agent.train()\n"
   ]
  },
  {
   "cell_type": "code",
   "execution_count": null,
   "metadata": {},
   "outputs": [],
   "source": []
  },
  {
   "cell_type": "code",
   "execution_count": 4,
   "metadata": {},
   "outputs": [
    {
     "name": "stdout",
     "output_type": "stream",
     "text": [
      "[1.9803149]\n",
      "[1.956118]\n",
      "[0.7803677]\n",
      "[0.34269476]\n",
      "[-1.5313423]\n",
      "[-0.90259457]\n",
      "[-0.06611769]\n",
      "[-1.4189206]\n",
      "[1.4060854]\n",
      "[-1.2389699]\n"
     ]
    }
   ],
   "source": [
    "for i in range(10):\n",
    "    #print(env.observation_space.sample())\n",
    "    print(env.action_space.sample())"
   ]
  }
 ],
 "metadata": {
  "kernelspec": {
   "display_name": "conda_tensorflow_p36",
   "language": "python",
   "name": "conda_tensorflow_p36"
  },
  "language_info": {
   "codemirror_mode": {
    "name": "ipython",
    "version": 3
   },
   "file_extension": ".py",
   "mimetype": "text/x-python",
   "name": "python",
   "nbconvert_exporter": "python",
   "pygments_lexer": "ipython3",
   "version": "3.6.13"
  },
  "nbdime-conflicts": {
   "local_diff": [
    {
     "diff": [
      {
       "diff": [
        {
         "key": 0,
         "op": "addrange",
         "valuelist": [
          "conda_pytorch_p36"
         ]
        },
        {
         "key": 0,
         "length": 1,
         "op": "removerange"
        }
       ],
       "key": "display_name",
       "op": "patch"
      }
     ],
     "key": "kernelspec",
     "op": "patch"
    },
    {
     "diff": [
      {
       "diff": [
        {
         "key": 0,
         "op": "addrange",
         "valuelist": [
          "3.6.13"
         ]
        },
        {
         "key": 0,
         "length": 1,
         "op": "removerange"
        }
       ],
       "key": "version",
       "op": "patch"
      }
     ],
     "key": "language_info",
     "op": "patch"
    }
   ],
   "remote_diff": [
    {
     "diff": [
      {
       "diff": [
        {
         "key": 0,
         "op": "addrange",
         "valuelist": [
          "Python 3 (ipykernel)"
         ]
        },
        {
         "key": 0,
         "length": 1,
         "op": "removerange"
        }
       ],
       "key": "display_name",
       "op": "patch"
      }
     ],
     "key": "kernelspec",
     "op": "patch"
    },
    {
     "diff": [
      {
       "diff": [
        {
         "key": 0,
         "op": "addrange",
         "valuelist": [
          "3.9.6"
         ]
        },
        {
         "key": 0,
         "length": 1,
         "op": "removerange"
        }
       ],
       "key": "version",
       "op": "patch"
      }
     ],
     "key": "language_info",
     "op": "patch"
    }
   ]
  }
 },
 "nbformat": 4,
 "nbformat_minor": 4
}
