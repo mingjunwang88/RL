{
 "cells": [
  {
   "cell_type": "markdown",
   "metadata": {},
   "source": [
    "### Example of Reinforcement Learning \n",
    "\n",
    "linear Approxiatio for Policy evaluation. Use same process as the deep Q leanring. But it only takes the linear input and output Q values(same number of actions). Use e-greedy exploration. "
   ]
  },
  {
   "cell_type": "code",
   "execution_count": 3,
   "metadata": {
    "scrolled": false
   },
   "outputs": [
    {
     "data": {
      "text/plain": [
       "[0.7,\n",
       " 0.1,\n",
       " 0.5,\n",
       " 0.5,\n",
       " 0.5,\n",
       " 0.5,\n",
       " 0.5,\n",
       " 0.5,\n",
       " 0.5,\n",
       " 0.5,\n",
       " 0.5,\n",
       " 0.5,\n",
       " 0.2,\n",
       " 0.5,\n",
       " 0.5,\n",
       " 0.5,\n",
       " 0.5,\n",
       " 0.5,\n",
       " 0.30000000000000004,\n",
       " 0.5,\n",
       " 0.5,\n",
       " 0.5,\n",
       " 0.5,\n",
       " 0.2,\n",
       " 0.30000000000000004,\n",
       " 0.20000000000000004,\n",
       " 0.5,\n",
       " 0.2,\n",
       " 0.5,\n",
       " 0.5,\n",
       " 0.5,\n",
       " 0.30000000000000004,\n",
       " 0.5,\n",
       " 0.5,\n",
       " 0.5,\n",
       " 0.5,\n",
       " 0.5,\n",
       " 0.5,\n",
       " 0.5,\n",
       " 0.5,\n",
       " 0.5,\n",
       " 0.30000000000000004,\n",
       " 0.5,\n",
       " 0.5,\n",
       " 0.2,\n",
       " 0.5,\n",
       " 0.5,\n",
       " 0.5,\n",
       " 0.5,\n",
       " 0.5]"
      ]
     },
     "metadata": {},
     "output_type": "display_data"
    }
   ],
   "source": [
    "import torch.nn as nn\n",
    "import torch\n",
    "import torch.optim as optim\n",
    "from q1_schedule import LinearExploration, LinearSchedule\n",
    "from utils.test_env import EnvTest\n",
    "import numpy as np\n",
    "\n",
    "class Critic(nn.Module):\n",
    "    def __init__(self, dim_input, alpha=1e-04, action_size=5):\n",
    "        super(Critic, self).__init__()\n",
    "        ## Assume output one rewards as the output\n",
    "        self.linear = nn.Linear(dim_input, action_size)\n",
    "        \n",
    "        self.optimizer = optim.Adam(self.parameters(), lr=alpha, weight_decay=1e-5)\n",
    "        self.loss_fun = nn.MSELoss()\n",
    "        \n",
    "    def forward(self, state):\n",
    "        #Sate is numpy array\n",
    "        x = torch.tensor(state.astype(float))\n",
    "        #display('State: ', state)\n",
    "        #print (x)\n",
    "        Qs = self.linear(x)\n",
    "        return Qs ##Output the five Q value for each action\n",
    "\n",
    "## We know the action action is one of (0:4)   \n",
    "\n",
    "class Agent():\n",
    "    def __init__(self,gamma, env, iters=50, epsilon=1, nsteps=50):\n",
    "        self.gamma = gamma\n",
    "        self.nsteps = nsteps\n",
    "        self.eps_begin = 1\n",
    "        self.eps_end = 0.1\n",
    "        \n",
    "        shape=1\n",
    "        for i in env.observation_space.shape:\n",
    "            shape*=i            \n",
    "        model= Critic(shape)\n",
    "            \n",
    "        self.model = model.double()\n",
    "        self.iters = iters\n",
    "        self.env = env\n",
    "        self.epsilon = epsilon\n",
    "        self.device = torch.device('cuda' if torch.cuda.is_available() else 'cpu')\n",
    "        \n",
    "    def pickActionEgreedy(self, best):\n",
    "        if np.random.rand() < self.epsilon:\n",
    "            return env.action_space.sample() #random \n",
    "        else:\n",
    "            return best\n",
    "        \n",
    "    def qValues(self,state):  # Not used in this program\n",
    "        #Return all the (atate, actions) pairs for that input state\n",
    "        Qs = np.zeros(env.action_space.n)\n",
    "        for action in range(env.action_space.n):\n",
    "            Qs[action] = self.model(state, action)\n",
    "        return Qs        \n",
    "        \n",
    "    def train(self):\n",
    "        t = 0\n",
    "        \n",
    "        #print ('Shape return: ', s.shape)\n",
    "        rewards_list =[]\n",
    "                        \n",
    "        for i in range(self.iters):\n",
    "            total_rewards = 0\n",
    "            s = self.env.reset()  #Obtain the initial stare\n",
    "            \n",
    "            done = False\n",
    "            while not done:\n",
    "                \n",
    "                self.model.train()\n",
    "                self.model.zero_grad()\n",
    "                t = t+1\n",
    "                alpha = 1 / t\n",
    "                \n",
    "                if t < self.nsteps:\n",
    "                    self.epsilon = self.epsilon - (self.eps_begin - self.eps_end) *(t / self.nsteps)\n",
    "                else: \n",
    "                    self.epsilon = self.eps_end\n",
    "                \n",
    "                ##Pick the action with epsilon-greddy\n",
    "                best_action = torch.argmax(self.model(s.flatten())) #obtain the best action\n",
    "                action = self.pickActionEgreedy(best_action.item()) #selection the action by applying the greedy alg\n",
    "                \n",
    "                ##obtain the new state and reward\n",
    "                s_next, rewards, done, _ = self.env.step(action)\n",
    "                ##save the total rewards\n",
    "                total_rewards +=rewards \n",
    "                \n",
    "                rewards = torch.tensor(rewards, requires_grad=True,dtype=torch.float64)\n",
    "                           \n",
    "                ##Appy the Q learning,obtain the TD target\n",
    "                target = rewards + self.gamma * torch.max(self.model(s_next.flatten())) *(1-int(done))\n",
    "            \n",
    "                pred = self.model(s.flatten())[action].float()\n",
    "                \n",
    "                loss = self.model.loss_fun(pred, target.float())\n",
    "                \n",
    "                loss.backward()\n",
    "                self.model.optimizer.step()                \n",
    "                s = s_next \n",
    "            rewards_list.append(total_rewards)\n",
    "        display(rewards_list)\n",
    "\n",
    "if __name__ == '__main__':\n",
    "    env = EnvTest((10,20))\n",
    "\n",
    "    \n",
    "    agent = Agent(0.9,env)\n",
    "    agent.train()\n",
    "    \n",
    "    \n",
    "    # train model\n",
    "    #model = Linear(env, config)\n",
    "    #model.run(exp_schedule, lr_schedule)\n"
   ]
  },
  {
   "cell_type": "code",
   "execution_count": null,
   "metadata": {},
   "outputs": [],
   "source": []
  },
  {
   "cell_type": "code",
   "execution_count": 71,
   "metadata": {},
   "outputs": [
    {
     "data": {
      "text/plain": [
       "4"
      ]
     },
     "execution_count": 71,
     "metadata": {},
     "output_type": "execute_result"
    }
   ],
   "source": [
    "np.amax([np.array([1,2,3,4])])"
   ]
  },
  {
   "cell_type": "code",
   "execution_count": 73,
   "metadata": {},
   "outputs": [
    {
     "name": "stdout",
     "output_type": "stream",
     "text": [
      "cpu\n"
     ]
    }
   ],
   "source": [
    "device = torch.device('cuda' if torch.cuda.is_available() else 'cpu')\n",
    "print (device)"
   ]
  },
  {
   "cell_type": "code",
   "execution_count": 364,
   "metadata": {},
   "outputs": [
    {
     "name": "stdout",
     "output_type": "stream",
     "text": [
      "[[1 2 3]\n",
      " [2 4 5]\n",
      " [1 2 3]]\n",
      "[1 2 3 2 4 5 1 2 3]\n"
     ]
    }
   ],
   "source": [
    "ini_array1 = np.array([[1, 2, 3], [2, 4, 5], [1, 2, 3]]) \n",
    "print (ini_array1)\n",
    "print (ini_array1.flatten())"
   ]
  },
  {
   "cell_type": "code",
   "execution_count": 347,
   "metadata": {},
   "outputs": [
    {
     "name": "stdout",
     "output_type": "stream",
     "text": [
      "5\n"
     ]
    }
   ],
   "source": [
    "for i in (5,):\n",
    "    print (i)"
   ]
  },
  {
   "cell_type": "code",
   "execution_count": null,
   "metadata": {},
   "outputs": [],
   "source": []
  }
 ],
 "metadata": {
  "kernelspec": {
   "display_name": "Python 3",
   "language": "python",
   "name": "python3"
  },
  "language_info": {
   "codemirror_mode": {
    "name": "ipython",
    "version": 3
   },
   "file_extension": ".py",
   "mimetype": "text/x-python",
   "name": "python",
   "nbconvert_exporter": "python",
   "pygments_lexer": "ipython3",
   "version": "3.7.3"
  }
 },
 "nbformat": 4,
 "nbformat_minor": 2
}
