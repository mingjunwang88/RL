{
 "cells": [
  {
   "cell_type": "code",
   "execution_count": 1,
   "id": "7931c17b-c0c4-4d99-9f97-4703b98c758f",
   "metadata": {},
   "outputs": [],
   "source": [
    "import torch\n",
    "import torch.nn as nn\n",
    "import torch.optim as optim\n",
    "import torch.nn.functional as F\n",
    "import gym\n",
    "import numpy as np\n",
    "import matplotlib.pyplot as plt"
   ]
  },
  {
   "cell_type": "markdown",
   "id": "feec39a9-5cd2-4408-9d10-f99d817b789c",
   "metadata": {},
   "source": [
    "### Collect a episodoes"
   ]
  },
  {
   "cell_type": "code",
   "execution_count": 17,
   "id": "f2bd4fbf-535c-494f-88bb-af8b078eea6e",
   "metadata": {},
   "outputs": [
    {
     "data": {
      "text/plain": [
       "21607"
      ]
     },
     "metadata": {},
     "output_type": "display_data"
    }
   ],
   "source": [
    "env = gym.make('CartPole-v1')\n",
    "trajs = []\n",
    "\n",
    "for i in range(1000):\n",
    "    done = None\n",
    "    state = env.reset()\n",
    "    while not done:\n",
    "        action = env.action_space.sample()\n",
    "        state_new, reward, done, _= env.step(action)\n",
    "        trajs.append([state, action, reward, state_new])\n",
    "        state = state_new\n",
    "\n",
    "display(len(trajs))"
   ]
  },
  {
   "cell_type": "code",
   "execution_count": 11,
   "id": "1c28c6bc-8b93-4e87-b670-2aa81ffe4dd5",
   "metadata": {},
   "outputs": [
    {
     "data": {
      "text/plain": [
       "(35, 4)"
      ]
     },
     "execution_count": 11,
     "metadata": {},
     "output_type": "execute_result"
    }
   ],
   "source": [
    "trajs.shape"
   ]
  },
  {
   "cell_type": "code",
   "execution_count": null,
   "id": "757e569b-0997-4ffc-a8dd-5f0dc76c484a",
   "metadata": {},
   "outputs": [],
   "source": []
  },
  {
   "cell_type": "code",
   "execution_count": 20,
   "id": "febf5d4d-ab0f-4b75-8e11-f67bc8c7b58c",
   "metadata": {},
   "outputs": [
    {
     "data": {
      "text/plain": [
       "[[tensor([[9.8015]]), tensor([[8.8904]]), tensor([[6.9600]]), tensor([[4.]])]]"
      ]
     },
     "execution_count": 20,
     "metadata": {},
     "output_type": "execute_result"
    }
   ],
   "source": [
    "import torch\n",
    "def reward_to_value(t_rewards, gamma):\n",
    "\n",
    "    t_Rs = []\n",
    "\n",
    "    for rewards in t_rewards:\n",
    "        Rs = []\n",
    "        R = torch.zeros(1, 1)\n",
    "\n",
    "        for i in reversed(range(len(rewards))):\n",
    "            R = gamma * R + rewards[i]\n",
    "            Rs.insert(0, R)\n",
    "        t_Rs.append(Rs)\n",
    "        \n",
    "    return(t_Rs)\n",
    "\n",
    "reward_to_value([[1.,2.,3.,4.]], 0.99)"
   ]
  },
  {
   "cell_type": "code",
   "execution_count": 25,
   "id": "17db9476-0350-49d1-995e-68efc7f76144",
   "metadata": {},
   "outputs": [
    {
     "ename": "TypeError",
     "evalue": "zeros() received an invalid combination of arguments - got (), but expected one of:\n * (tuple of ints size, *, tuple of names names, torch.dtype dtype, torch.layout layout, torch.device device, bool pin_memory, bool requires_grad)\n * (tuple of ints size, *, Tensor out, torch.dtype dtype, torch.layout layout, torch.device device, bool pin_memory, bool requires_grad)\n",
     "output_type": "error",
     "traceback": [
      "\u001b[0;31m---------------------------------------------------------------------------\u001b[0m",
      "\u001b[0;31mTypeError\u001b[0m                                 Traceback (most recent call last)",
      "\u001b[0;32m/var/folders/71/yj8n30pj62v3y4br2dypwtpc0000gn/T/ipykernel_9001/818198290.py\u001b[0m in \u001b[0;36m<module>\u001b[0;34m\u001b[0m\n\u001b[0;32m----> 1\u001b[0;31m \u001b[0mR\u001b[0m \u001b[0;34m=\u001b[0m \u001b[0mtorch\u001b[0m\u001b[0;34m.\u001b[0m\u001b[0mzeros\u001b[0m\u001b[0;34m(\u001b[0m\u001b[0;34m)\u001b[0m\u001b[0;34m\u001b[0m\u001b[0;34m\u001b[0m\u001b[0m\n\u001b[0m\u001b[1;32m      2\u001b[0m \u001b[0mR\u001b[0m\u001b[0;34m\u001b[0m\u001b[0;34m\u001b[0m\u001b[0m\n",
      "\u001b[0;31mTypeError\u001b[0m: zeros() received an invalid combination of arguments - got (), but expected one of:\n * (tuple of ints size, *, tuple of names names, torch.dtype dtype, torch.layout layout, torch.device device, bool pin_memory, bool requires_grad)\n * (tuple of ints size, *, Tensor out, torch.dtype dtype, torch.layout layout, torch.device device, bool pin_memory, bool requires_grad)\n"
     ]
    }
   ],
   "source": [
    "R = torch.zeros()\n",
    "R"
   ]
  }
 ],
 "metadata": {
  "kernelspec": {
   "display_name": "Python 3 (ipykernel)",
   "language": "python",
   "name": "python3"
  },
  "language_info": {
   "codemirror_mode": {
    "name": "ipython",
    "version": 3
   },
   "file_extension": ".py",
   "mimetype": "text/x-python",
   "name": "python",
   "nbconvert_exporter": "python",
   "pygments_lexer": "ipython3",
   "version": "3.9.6"
  }
 },
 "nbformat": 4,
 "nbformat_minor": 5
}
