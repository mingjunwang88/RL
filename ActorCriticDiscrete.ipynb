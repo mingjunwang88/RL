{
 "cells": [
  {
   "cell_type": "code",
   "execution_count": 1,
   "metadata": {},
   "outputs": [
    {
     "name": "stdout",
     "output_type": "stream",
     "text": [
      "4 2\n"
     ]
    },
    {
     "data": {
      "image/png": "[encoded data removed]",
      "text/plain": [
       "<Figure size 432x288 with 1 Axes>"
      ]
     },
     "metadata": {
      "needs_background": "light"
     },
     "output_type": "display_data"
    }
   ],
   "source": [
    "CUDA_LAUNCH_BLOCKING=1\n",
    "import torch as T\n",
    "import torch\n",
    "import torch.nn as nn\n",
    "import torch.optim as optim\n",
    "import torch.nn.functional as F\n",
    "import gym\n",
    "import matplotlib.pyplot as plt\n",
    "from torch.distributions import Categorical\n",
    "import numpy as np\n",
    "\n",
    "###################################################\n",
    "# Actor Critic mmodel with discrete actions\n",
    "###################################################\n",
    "\n",
    "class Critic(nn.Module):\n",
    "    def __init__(self, dim_state ,h1, h2, alpha=1e-4 ):\n",
    "        super(Critic, self).__init__()\n",
    "        \n",
    "        self.dim_state = dim_state\n",
    "        self.dim_action = dim_action\n",
    "        \n",
    "        self.linear1 = nn.Linear(dim_state, h1)\n",
    "        self.linear2 = nn.Linear(h1, h2)\n",
    "        self.linear3 = nn.Linear(h2,1)\n",
    "        \n",
    "        self.optimizer = optim.Adam(self.parameters(), lr=alpha, weight_decay=1e-4)\n",
    "        self.device = torch.device('cuda' if torch.cuda.is_available() else 'cpu')\n",
    "        self.to(self.device)\n",
    "        \n",
    "    def forward(self, state):\n",
    "        output = state.to(self.device)\n",
    "        output = F.relu(self.linear1(output))\n",
    "        output = F.relu(self.linear2(output))\n",
    "        output = self.linear3(output)\n",
    "        \n",
    "        return output\n",
    "    \n",
    "class Actor(nn.Module):\n",
    "    def __init__(self, dim_state, dim_action, alpha, fc1, fc2,):\n",
    "        super(Actor, self).__init__()\n",
    "        self.lr = alpha\n",
    "        self.dim_state = dim_state\n",
    "        self.dim_action = dim_action\n",
    "        self.fc1 = fc1\n",
    "        self.fc2 = fc2\n",
    "        \n",
    "        self.linear1 = nn.Linear(dim_state, fc1)\n",
    "        self.linear2 = nn.Linear(fc1, fc2)\n",
    "        self.linear3 = nn.Linear(fc2, dim_action)\n",
    "        self.device = T.device('cuda' if T.cuda.is_available() else 'cpu')\n",
    "        self.optimizer = optim.Adam(self.parameters(), lr=alpha, weight_decay=1e-4)\n",
    "        self.to(self.device)\n",
    "    \n",
    "    def forward(self,state):\n",
    "        output = state.to(self.device)\n",
    "        output = F.relu(self.linear1(output))\n",
    "        output = F.relu(self.linear2(output))\n",
    "        output = self.linear3(output)\n",
    "        \n",
    "        return output \n",
    "        \n",
    "class Agent():\n",
    "    def __init__(self, env, dim_state, dim_action, alpha, fc1, fc2, maxm_Iters=50, gamma=0.99):\n",
    "        self.dim_state = dim_state\n",
    "        self.dim_action = dim_action\n",
    "        self.gamma = gamma\n",
    "        self.maxm_Iters = maxm_Iters\n",
    "        \n",
    "        self.device = T.device('cuda' if T.cuda.is_available() else 'cpu')\n",
    "        self.critic = Critic(dim_state,fc1, fc2)\n",
    "        self.actor = Actor(dim_state, dim_action, alpha, fc1, fc2)\n",
    "        \n",
    "    def plot_learning_curve(self, x, scores, figure_file='test'):\n",
    "        running_avg = np.zeros(len(scores))\n",
    "        for i in range(len(running_avg)):\n",
    "            running_avg[i] = np.mean(scores[max(0, i-100):(i+1)])\n",
    "        plt.plot(x, running_avg)\n",
    "        plt.title('Running average of previous 100 scores')\n",
    "    \n",
    "    \n",
    "    def train(self):\n",
    "      \n",
    "        reward_list = []\n",
    "        for i in range(self.maxm_Iters):\n",
    "            state = env.reset()\n",
    "            total_reward = 0\n",
    "            done= False\n",
    "            \n",
    "            while not done:\n",
    "                self.critic.train()\n",
    "                self.actor.train()\n",
    "        \n",
    "                self.critic.zero_grad()\n",
    "                self.actor.zero_grad()\n",
    "              \n",
    "                probs = F.softmax(self.actor(T.tensor(state).float()), dim=0)\n",
    "\n",
    "                m = Categorical(probs)\n",
    "                action = m.sample().to(self.device)\n",
    "\n",
    "                state_next, reward, done, _ = env.step(action.item())\n",
    "                total_reward +=reward\n",
    "           \n",
    "                target = torch.tensor(reward) + self.gamma * self.critic(T.tensor(state_next).float())*(1-int(done))\n",
    "                state_value = self.critic(T.tensor(state).float())\n",
    "                advantage = target - state_value\n",
    "         \n",
    "                ## Loss for critic\n",
    "                loss_critic = advantage**2\n",
    "                \n",
    "                ## Loss for actor\n",
    "                loss_actor = -m.log_prob(action) * advantage\n",
    "                #loss_actor = (-m.log_prob(T.tensor(action_batch)) * advantage)\n",
    "                \n",
    "                (loss_critic + loss_actor).backward()\n",
    "                \n",
    "                self.actor.optimizer.step()\n",
    "                self.critic.optimizer.step()\n",
    "                \n",
    "                state = state_next\n",
    "            reward_list.append(total_reward)\n",
    "            \n",
    "        x = [i+1 for i in range(self.maxm_Iters)]\n",
    "        self.plot_learning_curve(x, reward_list)\n",
    "        \n",
    "if __name__ == '__main__':\n",
    "    env = gym.make('CartPole-v1')\n",
    "    #env = gym.make('MountainCar-v0')\n",
    "    dim_state = env.observation_space.shape[0]\n",
    "    dim_action = env.action_space.n\n",
    "    print (dim_state,dim_action )\n",
    "    \n",
    "    agent = Agent(env,dim_state,dim_action, 1e-5, 256, 256, maxm_Iters=2000)\n",
    "    agent.train()\n",
    "        "
   ]
  },
  {
   "cell_type": "code",
   "execution_count": 8,
   "metadata": {},
   "outputs": [
    {
     "name": "stderr",
     "output_type": "stream",
     "text": [
      "Task was destroyed but it is pending!\n",
      "task: <Task pending name='Task-1' coro=<Kernel.poll_control_queue() running at /opt/miniconda3/envs/env39/lib/python3.9/site-packages/ipykernel/kernelbase.py:226> wait_for=<Future finished result=[<zmq.sugar.fr...x7fee670270f0>, <zmq.sugar.fr...x7fee6dc45eb0>, <zmq.sugar.fr...x7fee6dc45f60>, <zmq.sugar.fr...x7fee6dc451a0>, <zmq.sugar.fr...x7fee6dc45250>, <zmq.sugar.fr...x7fee6dd4fa90>, ...]> cb=[_chain_future.<locals>._call_set_state() at /opt/miniconda3/envs/env39/lib/python3.9/asyncio/futures.py:391]>\n"
     ]
    }
   ],
   "source": [
    "T.save(agent.actor.state_dict(), 'ac_discreteOnpolicy.pt')\n",
    "T.save(agent.actor.state_dict(), 'ac_discreteOnpolicyCritic.pt')\n",
    "\n",
    "#actor = TheModelClass(*args, **kwargs)\n",
    "#actor.load_state_dict(T.load('ac_discreteOnpolicy.pt'))"
   ]
  },
  {
   "cell_type": "code",
   "execution_count": 5,
   "metadata": {},
   "outputs": [
    {
     "name": "stdout",
     "output_type": "stream",
     "text": [
      "Actor(\n",
      "  (linear1): Linear(in_features=4, out_features=256, bias=True)\n",
      "  (linear2): Linear(in_features=256, out_features=256, bias=True)\n",
      "  (linear3): Linear(in_features=256, out_features=2, bias=True)\n",
      ")\n",
      "[216.0, 191.0, 206.0, 223.0, 266.0, 151.0, 411.0, 258.0, 350.0, 411.0, 285.0, 341.0, 199.0, 349.0, 144.0, 303.0, 200.0, 253.0, 296.0, 493.0, 134.0, 169.0, 339.0, 188.0, 249.0, 304.0, 201.0, 216.0, 163.0, 168.0, 341.0, 313.0, 399.0, 195.0, 270.0, 400.0, 206.0, 274.0, 244.0, 379.0, 164.0, 254.0, 139.0, 161.0, 419.0, 206.0, 216.0, 142.0, 180.0, 251.0, 173.0, 176.0, 226.0, 318.0, 158.0, 186.0, 134.0, 159.0, 427.0, 248.0, 143.0, 210.0, 365.0, 293.0, 442.0, 306.0, 231.0, 127.0, 135.0, 176.0, 167.0, 232.0, 209.0, 286.0, 166.0, 232.0, 301.0, 129.0, 164.0, 180.0, 173.0, 387.0, 173.0, 311.0, 175.0, 435.0, 253.0, 217.0, 144.0, 156.0, 198.0, 241.0, 330.0, 179.0, 161.0, 279.0, 269.0, 127.0, 241.0, 379.0, 265.0, 178.0, 153.0, 303.0, 340.0, 210.0, 183.0, 348.0, 150.0, 128.0, 461.0, 188.0, 241.0, 305.0, 133.0, 164.0, 156.0, 500.0, 172.0, 228.0, 500.0, 313.0, 150.0, 262.0, 140.0, 149.0, 227.0, 178.0, 354.0, 350.0, 142.0, 150.0, 141.0, 249.0, 134.0, 135.0, 160.0, 173.0, 302.0, 255.0, 257.0, 138.0, 154.0, 237.0, 166.0, 174.0, 130.0, 166.0, 327.0, 340.0, 229.0, 248.0, 428.0, 193.0, 333.0, 238.0, 203.0, 158.0, 177.0, 173.0, 146.0, 385.0, 148.0, 146.0, 155.0, 332.0, 260.0, 336.0, 161.0, 310.0, 332.0, 190.0, 170.0, 170.0, 168.0, 159.0, 324.0, 219.0, 413.0, 177.0, 234.0, 386.0, 191.0, 141.0, 207.0, 146.0, 161.0, 154.0, 169.0, 217.0, 190.0, 166.0, 152.0, 282.0, 348.0, 162.0, 140.0, 223.0, 140.0, 231.0, 234.0, 170.0, 148.0, 143.0, 276.0, 168.0, 276.0, 300.0, 194.0, 257.0, 141.0, 152.0, 398.0, 280.0, 140.0, 128.0, 135.0, 343.0, 180.0, 243.0, 136.0, 364.0, 342.0, 335.0, 237.0, 158.0, 196.0, 183.0, 225.0, 255.0, 315.0, 310.0, 205.0, 186.0, 315.0, 418.0, 253.0, 342.0, 239.0, 285.0, 260.0, 225.0, 163.0, 206.0, 159.0, 292.0, 274.0, 188.0, 500.0, 157.0, 165.0, 241.0, 210.0, 198.0, 387.0, 258.0, 170.0, 177.0, 147.0, 295.0, 148.0, 244.0, 308.0, 133.0, 184.0, 214.0, 187.0, 280.0, 440.0, 230.0, 322.0, 128.0, 341.0, 156.0, 326.0, 162.0, 386.0, 216.0, 134.0, 185.0, 296.0, 186.0, 137.0, 128.0, 179.0, 435.0, 174.0, 147.0, 488.0, 147.0, 171.0, 200.0, 144.0, 180.0, 170.0, 323.0, 176.0, 180.0, 257.0, 267.0, 208.0, 128.0, 320.0, 172.0, 131.0, 165.0, 252.0, 392.0, 174.0, 127.0, 159.0, 155.0, 191.0, 233.0, 123.0, 239.0, 144.0, 176.0, 354.0, 166.0, 370.0, 145.0, 245.0, 196.0, 166.0, 179.0, 150.0, 171.0, 178.0, 160.0, 143.0, 305.0, 265.0, 298.0, 284.0, 228.0, 430.0, 223.0, 315.0, 270.0, 144.0, 160.0, 223.0, 192.0, 287.0, 210.0, 120.0, 148.0, 456.0, 410.0, 177.0, 142.0, 127.0, 161.0, 288.0, 244.0, 218.0, 281.0, 276.0, 332.0, 303.0, 181.0, 226.0, 494.0, 227.0, 396.0, 187.0, 165.0, 500.0, 251.0, 279.0, 308.0, 175.0, 149.0, 389.0, 217.0, 500.0, 324.0, 274.0, 275.0, 258.0, 194.0, 142.0, 216.0, 201.0, 245.0, 161.0, 182.0, 212.0, 350.0, 151.0, 174.0, 238.0, 290.0, 151.0, 140.0, 207.0, 240.0, 301.0, 189.0]\n"
     ]
    },
    {
     "data": {
      "image/png": "[encoded data removed]",
      "text/plain": [
       "<Figure size 432x288 with 1 Axes>"
      ]
     },
     "metadata": {
      "needs_background": "light"
     },
     "output_type": "display_data"
    }
   ],
   "source": [
    "import torch.nn as nn\n",
    "import torch \n",
    "import torch.optim as optim\n",
    "import torch.nn.functional as F\n",
    "import gym\n",
    "import numpy as np\n",
    "import matplotlib.pyplot as plt\n",
    "\n",
    "random=False\n",
    "max_iters = 400\n",
    "model = agent.actor\n",
    "print(model)\n",
    "\n",
    "rewards_list=[]\n",
    "for i in range(max_iters):\n",
    "    model.eval()\n",
    "    state = env.reset()\n",
    "    done=False\n",
    "    rewards = 0\n",
    "    \n",
    "    while not done:\n",
    "        if not random:\n",
    "            #For deepQ evaluation\n",
    "            #actions = model(torch.tensor(state).float())\n",
    "            #best = torch.argmax(actions)               \n",
    "            #action = agent.select_actions_epsilon(best.item())\n",
    "            \n",
    "            probs = F.softmax(model(T.tensor(state).float()), dim=0)\n",
    "            m = Categorical(probs)\n",
    "            action = m.sample().item()\n",
    "                \n",
    "        else:\n",
    "            action = env.action_space.sample()\n",
    "        \n",
    "        state_new, reward, done, _ = env.step(action)\n",
    "        rewards+=reward\n",
    "        \n",
    "        state = state_new\n",
    "        \n",
    "    rewards_list.append(rewards)\n",
    "print(rewards_list)           \n",
    "x = [i+1 for i in range(max_iters)]\n",
    "agent.plot_learning_curve(x, rewards_list)\n",
    "   "
   ]
  }
 ],
 "metadata": {
  "kernelspec": {
   "display_name": "Python 3 (ipykernel)",
   "language": "python",
   "name": "python3"
  },
  "language_info": {
   "codemirror_mode": {
    "name": "ipython",
    "version": 3
   },
   "file_extension": ".py",
   "mimetype": "text/x-python",
   "name": "python",
   "nbconvert_exporter": "python",
   "pygments_lexer": "ipython3",
   "version": "3.9.6"
  }
 },
 "nbformat": 4,
 "nbformat_minor": 4
}
