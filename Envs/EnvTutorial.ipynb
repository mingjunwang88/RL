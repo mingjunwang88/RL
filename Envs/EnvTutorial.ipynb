{
 "cells": [
  {
   "cell_type": "code",
   "execution_count": 25,
   "id": "ff7f5dfa",
   "metadata": {},
   "outputs": [],
   "source": [
    "import gym\n",
    "import numpy as np"
   ]
  },
  {
   "cell_type": "code",
   "execution_count": 26,
   "id": "b30219ca",
   "metadata": {},
   "outputs": [],
   "source": [
    "class myenv(gym.Env):\n",
    "    pass"
   ]
  },
  {
   "cell_type": "code",
   "execution_count": 43,
   "id": "faa31f73",
   "metadata": {},
   "outputs": [
    {
     "name": "stdout",
     "output_type": "stream",
     "text": [
      "<class 'numpy.ndarray'>\n",
      "[0.25070465 1.3235598 ]\n"
     ]
    }
   ],
   "source": [
    "actions = gym.spaces.Discrete(10)\n",
    "actions = gym.spaces.MultiDiscrete([(1,3),(2,5)])\n",
    "actions = gym.spaces.Box(np.array((-1., -2.)), np.array((1., 2.)))\n",
    "sample = actions.sample()\n",
    "print(type(sample))\n",
    "print(sample)"
   ]
  },
  {
   "cell_type": "code",
   "execution_count": null,
   "id": "fdb03e95",
   "metadata": {},
   "outputs": [],
   "source": []
  }
 ],
 "metadata": {
  "kernelspec": {
   "display_name": "conda_pytorch_latest_p36",
   "language": "python",
   "name": "conda_pytorch_latest_p36"
  },
  "language_info": {
   "codemirror_mode": {
    "name": "ipython",
    "version": 3
   },
   "file_extension": ".py",
   "mimetype": "text/x-python",
   "name": "python",
   "nbconvert_exporter": "python",
   "pygments_lexer": "ipython3",
   "version": "3.6.13"
  }
 },
 "nbformat": 4,
 "nbformat_minor": 5
}
