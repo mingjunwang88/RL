{
 "cells": [
  {
   "cell_type": "markdown",
   "id": "f02f0dda",
   "metadata": {},
   "source": [
    "### Environment Space Attributes\n",
    "    Most environments have two special attributes: action_space, observation_space\n",
    "\n",
    "    These contain instances of gym.spaces classes\n",
    "    Makes it easy to find out what are valid states and actions I\n",
    "    There is a convenient sample method to generate uniform random samples in the space.\n",
    "#### gym.spaces\n",
    "    Action spaces and State spaces are defined by instances of classes of the gym.spaces modules\n",
    "\n",
    "    Included types are:\n",
    "      gym.spaces.Discrete\n",
    "\n",
    "      gym.spaces.MultiDiscrete\n",
    "\n",
    "      gym.spaces.Box\n",
    "\n",
    "      gym.spaces.Tuple\n",
    "    All instances have a sample method which will sample random instances within the space\n",
    "#### gym.spaces.Discrete\n",
    "    The homework environments will use this type of space Specifies a space containing n discrete points\n",
    "    Each point is mapped to an integer from [0 ,n−1]\n",
    "    Discrete(10) A space containing 10 items mapped to integers in [0,9] sample will return integers such as 0, 3, and 9.\n",
    "#### gym.spaces.MultiDiscrete\n",
    "    You will use this to implement an environment in the homework\n",
    "    Species a space containing k dimensions each with a separate number of discrete points.\n",
    "    Each point in the space is represented by a vector of integers of length k\n",
    "    MultiDiscrete([(1, 3), (0, 5)]) A space with k= 2 dimensions First dimension has 4 points mapped to integers in [1,3] Second dimension has 6 points mapped to integers in [0,5] sample will return a vector such as [2,5] and [1,3]\n",
    "#### gym.spaces.Box\n",
    "    Used for multidimensional continuous spaces with bounds\n",
    "    You will see environments with these types of state and action spaces in future homeworks\n",
    "    Box(np.array((-1.0, -2.0)), np.array((1.0, 2.0))) A 2D continous state spaceI First dimension has values in range [−1.0,1.0) Second dimension has values in range [−2.0,2.0) sample will return a vector such as [−.55,2.] and [.768,−1.55]\n",
    "\n",
    "### Creating an Environment\n",
    "#### gym.Env Class\n",
    "    All environments should inherit from gym.Env\n",
    "    At a minimum you must override a handful of methods:\n",
    "    step()\n",
    "    reset()\n",
    "    At a minimum you must provide the following attributes action_space, observation_space\n",
    "#### Subclass Methods\n",
    "    _step is the same api as the step function used in the example\n",
    "    _reset is the same api as the reset function in the example\n",
    "    You may also provide the following methods for additionalfunctionality:\n",
    "\n",
    "    _render\n",
    "    _close\n",
    "    _configure\n",
    "    _seed\n",
    "\n",
    "#### Attributes\n",
    "    observation_space represents the state space\n",
    "    action_space represents the action space\n",
    "    Both are instances of gym.spaces classes\n",
    "    You can also provide a reward_range , but this defaults to (−∞,∞)\n",
    "#### Registration\n",
    "    How do you get your environment to work with gym.make()? You must register it\n",
    "#### Registration Example\n",
    "    from gym.envs.registration import register\n",
    "\n",
    "    register(\n",
    "      id='Deterministic-4x4-FrozenLake-v0',\n",
    "      entry_point='gym.envs.toy_text.frozen_lake:FrozenLakeEnv',\n",
    "      kwargs={'map_name': '4x4',\n",
    "      'is_slippery': False})\n",
    "    id: the environment name used with gym.make\n",
    "    entry_point: module path and class name of environment\n",
    "    kwargs: dictionary of keyword arguments to environment constructor\n",
    "#### Discrete Environment Class\n",
    "    A subclass of the gym.Env which provides the followingattributes\n",
    "    nS: number of states\n",
    "    nA: number of actions\n",
    "    P: model of environment\n",
    "    isd: initial state distribution\n"
   ]
  },
  {
   "cell_type": "code",
   "execution_count": 25,
   "id": "48846eb7",
   "metadata": {},
   "outputs": [],
   "source": [
    "import gym\n",
    "import numpy as np"
   ]
  },
  {
   "cell_type": "code",
   "execution_count": 26,
   "id": "f508686d",
   "metadata": {},
   "outputs": [],
   "source": [
    "class myenv(gym.Env):\n",
    "    pass"
   ]
  },
  {
   "cell_type": "code",
   "execution_count": 43,
   "id": "d2b835a6",
   "metadata": {},
   "outputs": [
    {
     "name": "stdout",
     "output_type": "stream",
     "text": [
      "<class 'numpy.ndarray'>\n",
      "[0.25070465 1.3235598 ]\n"
     ]
    }
   ],
   "source": [
    "actions = gym.spaces.Discrete(10)\n",
    "actions = gym.spaces.MultiDiscrete([(1,3),(2,5)])\n",
    "actions = gym.spaces.Box(np.array((-1., -2.)), np.array((1., 2.)))\n",
    "sample = actions.sample()\n",
    "print(type(sample))\n",
    "print(sample)"
   ]
  },
  {
   "cell_type": "code",
   "execution_count": null,
   "id": "6bca62e3",
   "metadata": {},
   "outputs": [],
   "source": []
  }
 ],
 "metadata": {
  "kernelspec": {
   "display_name": "conda_pytorch_latest_p36",
   "language": "python",
   "name": "conda_pytorch_latest_p36"
  },
  "language_info": {
   "codemirror_mode": {
    "name": "ipython",
    "version": 3
   },
   "file_extension": ".py",
   "mimetype": "text/x-python",
   "name": "python",
   "nbconvert_exporter": "python",
   "pygments_lexer": "ipython3",
   "version": "3.6.13"
  }
 },
 "nbformat": 4,
 "nbformat_minor": 5
}
