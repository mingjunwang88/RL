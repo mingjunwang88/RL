{
 "cells": [
  {
   "cell_type": "code",
   "execution_count": 1,
   "id": "ad2db546",
   "metadata": {},
   "outputs": [],
   "source": [
    "import gym"
   ]
  },
  {
   "cell_type": "code",
   "execution_count": 3,
   "id": "a75fada5",
   "metadata": {},
   "outputs": [],
   "source": [
    "class myenv(gym.Env):\n",
    "    pass"
   ]
  },
  {
   "cell_type": "code",
   "execution_count": 23,
   "id": "130675c3",
   "metadata": {},
   "outputs": [
    {
     "name": "stdout",
     "output_type": "stream",
     "text": [
      "<class 'numpy.ndarray'>\n",
      "[[0 2]\n",
      " [1 1]]\n"
     ]
    }
   ],
   "source": [
    "actions = gym.spaces.Discrete(10)\n",
    "actions = gym.spaces.MultiDiscrete([(1,3),(2,5)])\n",
    "sample = actions.sample()\n",
    "print(type(sample))\n",
    "print(sample)"
   ]
  }
 ],
 "metadata": {
  "kernelspec": {
   "display_name": "conda_pytorch_latest_p36",
   "language": "python",
   "name": "conda_pytorch_latest_p36"
  },
  "language_info": {
   "codemirror_mode": {
    "name": "ipython",
    "version": 3
   },
   "file_extension": ".py",
   "mimetype": "text/x-python",
   "name": "python",
   "nbconvert_exporter": "python",
   "pygments_lexer": "ipython3",
   "version": "3.6.13"
  }
 },
 "nbformat": 4,
 "nbformat_minor": 5
}
